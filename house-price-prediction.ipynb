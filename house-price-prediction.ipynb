{
 "cells": [
  {
   "cell_type": "code",
   "execution_count": 1,
   "id": "820cdb68",
   "metadata": {
    "_cell_guid": "b1076dfc-b9ad-4769-8c92-a6c4dae69d19",
    "_uuid": "8f2839f25d086af736a60e9eeb907d3b93b6e0e5",
    "execution": {
     "iopub.execute_input": "2023-03-01T12:02:54.397336Z",
     "iopub.status.busy": "2023-03-01T12:02:54.396169Z",
     "iopub.status.idle": "2023-03-01T12:02:54.414856Z",
     "shell.execute_reply": "2023-03-01T12:02:54.413867Z"
    },
    "papermill": {
     "duration": 0.037596,
     "end_time": "2023-03-01T12:02:54.418435",
     "exception": false,
     "start_time": "2023-03-01T12:02:54.380839",
     "status": "completed"
    },
    "tags": []
   },
   "outputs": [
    {
     "name": "stdout",
     "output_type": "stream",
     "text": [
      "/kaggle/input/house-prices-advanced-regression-techniques/sample_submission.csv\n",
      "/kaggle/input/house-prices-advanced-regression-techniques/data_description.txt\n",
      "/kaggle/input/house-prices-advanced-regression-techniques/train.csv\n",
      "/kaggle/input/house-prices-advanced-regression-techniques/test.csv\n"
     ]
    }
   ],
   "source": [
    "# This Python 3 environment comes with many helpful analytics libraries installed\n",
    "# It is defined by the kaggle/python Docker image: https://github.com/kaggle/docker-python\n",
    "# For example, here's several helpful packages to load\n",
    "\n",
    "import numpy as np # linear algebra\n",
    "import pandas as pd # data processing, CSV file I/O (e.g. pd.read_csv)\n",
    "\n",
    "# Input data files are available in the read-only \"../input/\" directory\n",
    "# For example, running this (by clicking run or pressing Shift+Enter) will list all files under the input directory\n",
    "\n",
    "import os\n",
    "for dirname, _, filenames in os.walk('/kaggle/input'):\n",
    "    for filename in filenames:\n",
    "        print(os.path.join(dirname, filename))\n",
    "\n",
    "# You can write up to 20GB to the current directory (/kaggle/working/) that gets preserved as output when you create a version using \"Save & Run All\" \n",
    "# You can also write temporary files to /kaggle/temp/, but they won't be saved outside of the current session"
   ]
  },
  {
   "cell_type": "markdown",
   "id": "e0008551",
   "metadata": {
    "papermill": {
     "duration": 0.011733,
     "end_time": "2023-03-01T12:02:54.444240",
     "exception": false,
     "start_time": "2023-03-01T12:02:54.432507",
     "status": "completed"
    },
    "tags": []
   },
   "source": [
    "# Import all the necessary libraries"
   ]
  },
  {
   "cell_type": "code",
   "execution_count": 2,
   "id": "ac40055d",
   "metadata": {
    "execution": {
     "iopub.execute_input": "2023-03-01T12:02:54.470648Z",
     "iopub.status.busy": "2023-03-01T12:02:54.470152Z",
     "iopub.status.idle": "2023-03-01T12:02:55.558627Z",
     "shell.execute_reply": "2023-03-01T12:02:55.557206Z"
    },
    "papermill": {
     "duration": 1.104853,
     "end_time": "2023-03-01T12:02:55.561672",
     "exception": false,
     "start_time": "2023-03-01T12:02:54.456819",
     "status": "completed"
    },
    "tags": []
   },
   "outputs": [],
   "source": [
    "import numpy as np\n",
    "import pandas as pd\n",
    "import matplotlib.pyplot as plt\n",
    "%matplotlib inline\n",
    "import sklearn"
   ]
  },
  {
   "cell_type": "markdown",
   "id": "c9b5ddb5",
   "metadata": {
    "papermill": {
     "duration": 0.01206,
     "end_time": "2023-03-01T12:02:55.587292",
     "exception": false,
     "start_time": "2023-03-01T12:02:55.575232",
     "status": "completed"
    },
    "tags": []
   },
   "source": [
    "# Get the train and test data"
   ]
  },
  {
   "cell_type": "code",
   "execution_count": 3,
   "id": "d979d950",
   "metadata": {
    "execution": {
     "iopub.execute_input": "2023-03-01T12:02:55.613494Z",
     "iopub.status.busy": "2023-03-01T12:02:55.613025Z",
     "iopub.status.idle": "2023-03-01T12:02:55.695464Z",
     "shell.execute_reply": "2023-03-01T12:02:55.694138Z"
    },
    "papermill": {
     "duration": 0.099353,
     "end_time": "2023-03-01T12:02:55.698707",
     "exception": false,
     "start_time": "2023-03-01T12:02:55.599354",
     "status": "completed"
    },
    "tags": []
   },
   "outputs": [],
   "source": [
    "df_train=pd.read_csv(\"/kaggle/input/house-prices-advanced-regression-techniques/train.csv\")\n",
    "df_train.head()\n",
    "df_test=pd.read_csv(\"/kaggle/input/house-prices-advanced-regression-techniques/test.csv\")\n",
    "test_id=df_test['Id']"
   ]
  },
  {
   "cell_type": "code",
   "execution_count": 4,
   "id": "a3115ed2",
   "metadata": {
    "execution": {
     "iopub.execute_input": "2023-03-01T12:02:55.725030Z",
     "iopub.status.busy": "2023-03-01T12:02:55.724585Z",
     "iopub.status.idle": "2023-03-01T12:02:55.734137Z",
     "shell.execute_reply": "2023-03-01T12:02:55.732673Z"
    },
    "papermill": {
     "duration": 0.025883,
     "end_time": "2023-03-01T12:02:55.736789",
     "exception": false,
     "start_time": "2023-03-01T12:02:55.710906",
     "status": "completed"
    },
    "tags": []
   },
   "outputs": [
    {
     "data": {
      "text/plain": [
       "(1460, 81)"
      ]
     },
     "execution_count": 4,
     "metadata": {},
     "output_type": "execute_result"
    }
   ],
   "source": [
    "df_train.shape"
   ]
  },
  {
   "cell_type": "code",
   "execution_count": 5,
   "id": "0ad58ee8",
   "metadata": {
    "execution": {
     "iopub.execute_input": "2023-03-01T12:02:55.763742Z",
     "iopub.status.busy": "2023-03-01T12:02:55.763264Z",
     "iopub.status.idle": "2023-03-01T12:02:55.770623Z",
     "shell.execute_reply": "2023-03-01T12:02:55.769209Z"
    },
    "papermill": {
     "duration": 0.024062,
     "end_time": "2023-03-01T12:02:55.773018",
     "exception": false,
     "start_time": "2023-03-01T12:02:55.748956",
     "status": "completed"
    },
    "tags": []
   },
   "outputs": [
    {
     "data": {
      "text/plain": [
       "(1459, 80)"
      ]
     },
     "execution_count": 5,
     "metadata": {},
     "output_type": "execute_result"
    }
   ],
   "source": [
    "df_test.shape"
   ]
  },
  {
   "cell_type": "code",
   "execution_count": 6,
   "id": "608022e8",
   "metadata": {
    "execution": {
     "iopub.execute_input": "2023-03-01T12:02:55.799993Z",
     "iopub.status.busy": "2023-03-01T12:02:55.799561Z",
     "iopub.status.idle": "2023-03-01T12:02:55.807486Z",
     "shell.execute_reply": "2023-03-01T12:02:55.806303Z"
    },
    "papermill": {
     "duration": 0.02424,
     "end_time": "2023-03-01T12:02:55.809969",
     "exception": false,
     "start_time": "2023-03-01T12:02:55.785729",
     "status": "completed"
    },
    "tags": []
   },
   "outputs": [
    {
     "data": {
      "text/plain": [
       "Index(['Id', 'MSSubClass', 'MSZoning', 'LotFrontage', 'LotArea', 'Street',\n",
       "       'Alley', 'LotShape', 'LandContour', 'Utilities', 'LotConfig',\n",
       "       'LandSlope', 'Neighborhood', 'Condition1', 'Condition2', 'BldgType',\n",
       "       'HouseStyle', 'OverallQual', 'OverallCond', 'YearBuilt', 'YearRemodAdd',\n",
       "       'RoofStyle', 'RoofMatl', 'Exterior1st', 'Exterior2nd', 'MasVnrType',\n",
       "       'MasVnrArea', 'ExterQual', 'ExterCond', 'Foundation', 'BsmtQual',\n",
       "       'BsmtCond', 'BsmtExposure', 'BsmtFinType1', 'BsmtFinSF1',\n",
       "       'BsmtFinType2', 'BsmtFinSF2', 'BsmtUnfSF', 'TotalBsmtSF', 'Heating',\n",
       "       'HeatingQC', 'CentralAir', 'Electrical', '1stFlrSF', '2ndFlrSF',\n",
       "       'LowQualFinSF', 'GrLivArea', 'BsmtFullBath', 'BsmtHalfBath', 'FullBath',\n",
       "       'HalfBath', 'BedroomAbvGr', 'KitchenAbvGr', 'KitchenQual',\n",
       "       'TotRmsAbvGrd', 'Functional', 'Fireplaces', 'FireplaceQu', 'GarageType',\n",
       "       'GarageYrBlt', 'GarageFinish', 'GarageCars', 'GarageArea', 'GarageQual',\n",
       "       'GarageCond', 'PavedDrive', 'WoodDeckSF', 'OpenPorchSF',\n",
       "       'EnclosedPorch', '3SsnPorch', 'ScreenPorch', 'PoolArea', 'PoolQC',\n",
       "       'Fence', 'MiscFeature', 'MiscVal', 'MoSold', 'YrSold', 'SaleType',\n",
       "       'SaleCondition', 'SalePrice'],\n",
       "      dtype='object')"
      ]
     },
     "execution_count": 6,
     "metadata": {},
     "output_type": "execute_result"
    }
   ],
   "source": [
    "df_train.columns"
   ]
  },
  {
   "cell_type": "markdown",
   "id": "4a9937f6",
   "metadata": {
    "papermill": {
     "duration": 0.012329,
     "end_time": "2023-03-01T12:02:55.834579",
     "exception": false,
     "start_time": "2023-03-01T12:02:55.822250",
     "status": "completed"
    },
    "tags": []
   },
   "source": [
    "# Cleaning Null Values"
   ]
  },
  {
   "cell_type": "code",
   "execution_count": 7,
   "id": "8a5297a3",
   "metadata": {
    "execution": {
     "iopub.execute_input": "2023-03-01T12:02:55.862987Z",
     "iopub.status.busy": "2023-03-01T12:02:55.862537Z",
     "iopub.status.idle": "2023-03-01T12:02:55.878169Z",
     "shell.execute_reply": "2023-03-01T12:02:55.876715Z"
    },
    "papermill": {
     "duration": 0.034173,
     "end_time": "2023-03-01T12:02:55.881766",
     "exception": false,
     "start_time": "2023-03-01T12:02:55.847593",
     "status": "completed"
    },
    "tags": []
   },
   "outputs": [
    {
     "data": {
      "text/plain": [
       "LotFrontage      259\n",
       "Alley           1369\n",
       "FireplaceQu      690\n",
       "GarageType        81\n",
       "GarageYrBlt       81\n",
       "GarageFinish      81\n",
       "GarageQual        81\n",
       "GarageCond        81\n",
       "PoolQC          1453\n",
       "Fence           1179\n",
       "MiscFeature     1406\n",
       "dtype: int64"
      ]
     },
     "execution_count": 7,
     "metadata": {},
     "output_type": "execute_result"
    }
   ],
   "source": [
    "null=df_train.isnull().sum()\n",
    "null=null[null>75]\n",
    "null"
   ]
  },
  {
   "cell_type": "code",
   "execution_count": 8,
   "id": "02bd5d33",
   "metadata": {
    "execution": {
     "iopub.execute_input": "2023-03-01T12:02:55.911178Z",
     "iopub.status.busy": "2023-03-01T12:02:55.910722Z",
     "iopub.status.idle": "2023-03-01T12:02:55.918366Z",
     "shell.execute_reply": "2023-03-01T12:02:55.917095Z"
    },
    "papermill": {
     "duration": 0.024599,
     "end_time": "2023-03-01T12:02:55.921034",
     "exception": false,
     "start_time": "2023-03-01T12:02:55.896435",
     "status": "completed"
    },
    "tags": []
   },
   "outputs": [
    {
     "data": {
      "text/plain": [
       "array(['LotFrontage', 'Alley', 'FireplaceQu', 'GarageType', 'GarageYrBlt',\n",
       "       'GarageFinish', 'GarageQual', 'GarageCond', 'PoolQC', 'Fence',\n",
       "       'MiscFeature'], dtype=object)"
      ]
     },
     "execution_count": 8,
     "metadata": {},
     "output_type": "execute_result"
    }
   ],
   "source": [
    "col=null.index\n",
    "col=np.array(col)\n",
    "col"
   ]
  },
  {
   "cell_type": "code",
   "execution_count": 9,
   "id": "ea4c8ec6",
   "metadata": {
    "execution": {
     "iopub.execute_input": "2023-03-01T12:02:55.948726Z",
     "iopub.status.busy": "2023-03-01T12:02:55.948213Z",
     "iopub.status.idle": "2023-03-01T12:02:55.989700Z",
     "shell.execute_reply": "2023-03-01T12:02:55.988385Z"
    },
    "papermill": {
     "duration": 0.058921,
     "end_time": "2023-03-01T12:02:55.992655",
     "exception": false,
     "start_time": "2023-03-01T12:02:55.933734",
     "status": "completed"
    },
    "tags": []
   },
   "outputs": [
    {
     "data": {
      "text/html": [
       "<div>\n",
       "<style scoped>\n",
       "    .dataframe tbody tr th:only-of-type {\n",
       "        vertical-align: middle;\n",
       "    }\n",
       "\n",
       "    .dataframe tbody tr th {\n",
       "        vertical-align: top;\n",
       "    }\n",
       "\n",
       "    .dataframe thead th {\n",
       "        text-align: right;\n",
       "    }\n",
       "</style>\n",
       "<table border=\"1\" class=\"dataframe\">\n",
       "  <thead>\n",
       "    <tr style=\"text-align: right;\">\n",
       "      <th></th>\n",
       "      <th>Id</th>\n",
       "      <th>MSSubClass</th>\n",
       "      <th>MSZoning</th>\n",
       "      <th>LotArea</th>\n",
       "      <th>Street</th>\n",
       "      <th>LotShape</th>\n",
       "      <th>LandContour</th>\n",
       "      <th>Utilities</th>\n",
       "      <th>LotConfig</th>\n",
       "      <th>LandSlope</th>\n",
       "      <th>...</th>\n",
       "      <th>EnclosedPorch</th>\n",
       "      <th>3SsnPorch</th>\n",
       "      <th>ScreenPorch</th>\n",
       "      <th>PoolArea</th>\n",
       "      <th>MiscVal</th>\n",
       "      <th>MoSold</th>\n",
       "      <th>YrSold</th>\n",
       "      <th>SaleType</th>\n",
       "      <th>SaleCondition</th>\n",
       "      <th>SalePrice</th>\n",
       "    </tr>\n",
       "  </thead>\n",
       "  <tbody>\n",
       "    <tr>\n",
       "      <th>0</th>\n",
       "      <td>1</td>\n",
       "      <td>60</td>\n",
       "      <td>RL</td>\n",
       "      <td>8450</td>\n",
       "      <td>Pave</td>\n",
       "      <td>Reg</td>\n",
       "      <td>Lvl</td>\n",
       "      <td>AllPub</td>\n",
       "      <td>Inside</td>\n",
       "      <td>Gtl</td>\n",
       "      <td>...</td>\n",
       "      <td>0</td>\n",
       "      <td>0</td>\n",
       "      <td>0</td>\n",
       "      <td>0</td>\n",
       "      <td>0</td>\n",
       "      <td>2</td>\n",
       "      <td>2008</td>\n",
       "      <td>WD</td>\n",
       "      <td>Normal</td>\n",
       "      <td>208500</td>\n",
       "    </tr>\n",
       "    <tr>\n",
       "      <th>1</th>\n",
       "      <td>2</td>\n",
       "      <td>20</td>\n",
       "      <td>RL</td>\n",
       "      <td>9600</td>\n",
       "      <td>Pave</td>\n",
       "      <td>Reg</td>\n",
       "      <td>Lvl</td>\n",
       "      <td>AllPub</td>\n",
       "      <td>FR2</td>\n",
       "      <td>Gtl</td>\n",
       "      <td>...</td>\n",
       "      <td>0</td>\n",
       "      <td>0</td>\n",
       "      <td>0</td>\n",
       "      <td>0</td>\n",
       "      <td>0</td>\n",
       "      <td>5</td>\n",
       "      <td>2007</td>\n",
       "      <td>WD</td>\n",
       "      <td>Normal</td>\n",
       "      <td>181500</td>\n",
       "    </tr>\n",
       "    <tr>\n",
       "      <th>2</th>\n",
       "      <td>3</td>\n",
       "      <td>60</td>\n",
       "      <td>RL</td>\n",
       "      <td>11250</td>\n",
       "      <td>Pave</td>\n",
       "      <td>IR1</td>\n",
       "      <td>Lvl</td>\n",
       "      <td>AllPub</td>\n",
       "      <td>Inside</td>\n",
       "      <td>Gtl</td>\n",
       "      <td>...</td>\n",
       "      <td>0</td>\n",
       "      <td>0</td>\n",
       "      <td>0</td>\n",
       "      <td>0</td>\n",
       "      <td>0</td>\n",
       "      <td>9</td>\n",
       "      <td>2008</td>\n",
       "      <td>WD</td>\n",
       "      <td>Normal</td>\n",
       "      <td>223500</td>\n",
       "    </tr>\n",
       "    <tr>\n",
       "      <th>3</th>\n",
       "      <td>4</td>\n",
       "      <td>70</td>\n",
       "      <td>RL</td>\n",
       "      <td>9550</td>\n",
       "      <td>Pave</td>\n",
       "      <td>IR1</td>\n",
       "      <td>Lvl</td>\n",
       "      <td>AllPub</td>\n",
       "      <td>Corner</td>\n",
       "      <td>Gtl</td>\n",
       "      <td>...</td>\n",
       "      <td>272</td>\n",
       "      <td>0</td>\n",
       "      <td>0</td>\n",
       "      <td>0</td>\n",
       "      <td>0</td>\n",
       "      <td>2</td>\n",
       "      <td>2006</td>\n",
       "      <td>WD</td>\n",
       "      <td>Abnorml</td>\n",
       "      <td>140000</td>\n",
       "    </tr>\n",
       "    <tr>\n",
       "      <th>4</th>\n",
       "      <td>5</td>\n",
       "      <td>60</td>\n",
       "      <td>RL</td>\n",
       "      <td>14260</td>\n",
       "      <td>Pave</td>\n",
       "      <td>IR1</td>\n",
       "      <td>Lvl</td>\n",
       "      <td>AllPub</td>\n",
       "      <td>FR2</td>\n",
       "      <td>Gtl</td>\n",
       "      <td>...</td>\n",
       "      <td>0</td>\n",
       "      <td>0</td>\n",
       "      <td>0</td>\n",
       "      <td>0</td>\n",
       "      <td>0</td>\n",
       "      <td>12</td>\n",
       "      <td>2008</td>\n",
       "      <td>WD</td>\n",
       "      <td>Normal</td>\n",
       "      <td>250000</td>\n",
       "    </tr>\n",
       "    <tr>\n",
       "      <th>...</th>\n",
       "      <td>...</td>\n",
       "      <td>...</td>\n",
       "      <td>...</td>\n",
       "      <td>...</td>\n",
       "      <td>...</td>\n",
       "      <td>...</td>\n",
       "      <td>...</td>\n",
       "      <td>...</td>\n",
       "      <td>...</td>\n",
       "      <td>...</td>\n",
       "      <td>...</td>\n",
       "      <td>...</td>\n",
       "      <td>...</td>\n",
       "      <td>...</td>\n",
       "      <td>...</td>\n",
       "      <td>...</td>\n",
       "      <td>...</td>\n",
       "      <td>...</td>\n",
       "      <td>...</td>\n",
       "      <td>...</td>\n",
       "      <td>...</td>\n",
       "    </tr>\n",
       "    <tr>\n",
       "      <th>1455</th>\n",
       "      <td>1456</td>\n",
       "      <td>60</td>\n",
       "      <td>RL</td>\n",
       "      <td>7917</td>\n",
       "      <td>Pave</td>\n",
       "      <td>Reg</td>\n",
       "      <td>Lvl</td>\n",
       "      <td>AllPub</td>\n",
       "      <td>Inside</td>\n",
       "      <td>Gtl</td>\n",
       "      <td>...</td>\n",
       "      <td>0</td>\n",
       "      <td>0</td>\n",
       "      <td>0</td>\n",
       "      <td>0</td>\n",
       "      <td>0</td>\n",
       "      <td>8</td>\n",
       "      <td>2007</td>\n",
       "      <td>WD</td>\n",
       "      <td>Normal</td>\n",
       "      <td>175000</td>\n",
       "    </tr>\n",
       "    <tr>\n",
       "      <th>1456</th>\n",
       "      <td>1457</td>\n",
       "      <td>20</td>\n",
       "      <td>RL</td>\n",
       "      <td>13175</td>\n",
       "      <td>Pave</td>\n",
       "      <td>Reg</td>\n",
       "      <td>Lvl</td>\n",
       "      <td>AllPub</td>\n",
       "      <td>Inside</td>\n",
       "      <td>Gtl</td>\n",
       "      <td>...</td>\n",
       "      <td>0</td>\n",
       "      <td>0</td>\n",
       "      <td>0</td>\n",
       "      <td>0</td>\n",
       "      <td>0</td>\n",
       "      <td>2</td>\n",
       "      <td>2010</td>\n",
       "      <td>WD</td>\n",
       "      <td>Normal</td>\n",
       "      <td>210000</td>\n",
       "    </tr>\n",
       "    <tr>\n",
       "      <th>1457</th>\n",
       "      <td>1458</td>\n",
       "      <td>70</td>\n",
       "      <td>RL</td>\n",
       "      <td>9042</td>\n",
       "      <td>Pave</td>\n",
       "      <td>Reg</td>\n",
       "      <td>Lvl</td>\n",
       "      <td>AllPub</td>\n",
       "      <td>Inside</td>\n",
       "      <td>Gtl</td>\n",
       "      <td>...</td>\n",
       "      <td>0</td>\n",
       "      <td>0</td>\n",
       "      <td>0</td>\n",
       "      <td>0</td>\n",
       "      <td>2500</td>\n",
       "      <td>5</td>\n",
       "      <td>2010</td>\n",
       "      <td>WD</td>\n",
       "      <td>Normal</td>\n",
       "      <td>266500</td>\n",
       "    </tr>\n",
       "    <tr>\n",
       "      <th>1458</th>\n",
       "      <td>1459</td>\n",
       "      <td>20</td>\n",
       "      <td>RL</td>\n",
       "      <td>9717</td>\n",
       "      <td>Pave</td>\n",
       "      <td>Reg</td>\n",
       "      <td>Lvl</td>\n",
       "      <td>AllPub</td>\n",
       "      <td>Inside</td>\n",
       "      <td>Gtl</td>\n",
       "      <td>...</td>\n",
       "      <td>112</td>\n",
       "      <td>0</td>\n",
       "      <td>0</td>\n",
       "      <td>0</td>\n",
       "      <td>0</td>\n",
       "      <td>4</td>\n",
       "      <td>2010</td>\n",
       "      <td>WD</td>\n",
       "      <td>Normal</td>\n",
       "      <td>142125</td>\n",
       "    </tr>\n",
       "    <tr>\n",
       "      <th>1459</th>\n",
       "      <td>1460</td>\n",
       "      <td>20</td>\n",
       "      <td>RL</td>\n",
       "      <td>9937</td>\n",
       "      <td>Pave</td>\n",
       "      <td>Reg</td>\n",
       "      <td>Lvl</td>\n",
       "      <td>AllPub</td>\n",
       "      <td>Inside</td>\n",
       "      <td>Gtl</td>\n",
       "      <td>...</td>\n",
       "      <td>0</td>\n",
       "      <td>0</td>\n",
       "      <td>0</td>\n",
       "      <td>0</td>\n",
       "      <td>0</td>\n",
       "      <td>6</td>\n",
       "      <td>2008</td>\n",
       "      <td>WD</td>\n",
       "      <td>Normal</td>\n",
       "      <td>147500</td>\n",
       "    </tr>\n",
       "  </tbody>\n",
       "</table>\n",
       "<p>1460 rows × 70 columns</p>\n",
       "</div>"
      ],
      "text/plain": [
       "        Id  MSSubClass MSZoning  LotArea Street LotShape LandContour  \\\n",
       "0        1          60       RL     8450   Pave      Reg         Lvl   \n",
       "1        2          20       RL     9600   Pave      Reg         Lvl   \n",
       "2        3          60       RL    11250   Pave      IR1         Lvl   \n",
       "3        4          70       RL     9550   Pave      IR1         Lvl   \n",
       "4        5          60       RL    14260   Pave      IR1         Lvl   \n",
       "...    ...         ...      ...      ...    ...      ...         ...   \n",
       "1455  1456          60       RL     7917   Pave      Reg         Lvl   \n",
       "1456  1457          20       RL    13175   Pave      Reg         Lvl   \n",
       "1457  1458          70       RL     9042   Pave      Reg         Lvl   \n",
       "1458  1459          20       RL     9717   Pave      Reg         Lvl   \n",
       "1459  1460          20       RL     9937   Pave      Reg         Lvl   \n",
       "\n",
       "     Utilities LotConfig LandSlope  ... EnclosedPorch 3SsnPorch ScreenPorch  \\\n",
       "0       AllPub    Inside       Gtl  ...             0         0           0   \n",
       "1       AllPub       FR2       Gtl  ...             0         0           0   \n",
       "2       AllPub    Inside       Gtl  ...             0         0           0   \n",
       "3       AllPub    Corner       Gtl  ...           272         0           0   \n",
       "4       AllPub       FR2       Gtl  ...             0         0           0   \n",
       "...        ...       ...       ...  ...           ...       ...         ...   \n",
       "1455    AllPub    Inside       Gtl  ...             0         0           0   \n",
       "1456    AllPub    Inside       Gtl  ...             0         0           0   \n",
       "1457    AllPub    Inside       Gtl  ...             0         0           0   \n",
       "1458    AllPub    Inside       Gtl  ...           112         0           0   \n",
       "1459    AllPub    Inside       Gtl  ...             0         0           0   \n",
       "\n",
       "     PoolArea MiscVal  MoSold  YrSold  SaleType  SaleCondition SalePrice  \n",
       "0           0       0       2    2008        WD         Normal    208500  \n",
       "1           0       0       5    2007        WD         Normal    181500  \n",
       "2           0       0       9    2008        WD         Normal    223500  \n",
       "3           0       0       2    2006        WD        Abnorml    140000  \n",
       "4           0       0      12    2008        WD         Normal    250000  \n",
       "...       ...     ...     ...     ...       ...            ...       ...  \n",
       "1455        0       0       8    2007        WD         Normal    175000  \n",
       "1456        0       0       2    2010        WD         Normal    210000  \n",
       "1457        0    2500       5    2010        WD         Normal    266500  \n",
       "1458        0       0       4    2010        WD         Normal    142125  \n",
       "1459        0       0       6    2008        WD         Normal    147500  \n",
       "\n",
       "[1460 rows x 70 columns]"
      ]
     },
     "execution_count": 9,
     "metadata": {},
     "output_type": "execute_result"
    }
   ],
   "source": [
    "df_train=df_train.drop(columns=col,axis=1)\n",
    "df_train"
   ]
  },
  {
   "cell_type": "code",
   "execution_count": 10,
   "id": "af4745f6",
   "metadata": {
    "execution": {
     "iopub.execute_input": "2023-03-01T12:02:56.021420Z",
     "iopub.status.busy": "2023-03-01T12:02:56.020231Z",
     "iopub.status.idle": "2023-03-01T12:02:56.034203Z",
     "shell.execute_reply": "2023-03-01T12:02:56.033010Z"
    },
    "papermill": {
     "duration": 0.030749,
     "end_time": "2023-03-01T12:02:56.036652",
     "exception": false,
     "start_time": "2023-03-01T12:02:56.005903",
     "status": "completed"
    },
    "tags": []
   },
   "outputs": [
    {
     "data": {
      "text/plain": [
       "Alley          1352\n",
       "FireplaceQu     730\n",
       "PoolQC         1456\n",
       "Fence          1169\n",
       "MiscFeature    1408\n",
       "dtype: int64"
      ]
     },
     "execution_count": 10,
     "metadata": {},
     "output_type": "execute_result"
    }
   ],
   "source": [
    "null1=df_test.isnull().sum()\n",
    "null1=null1[null1>300]\n",
    "null1"
   ]
  },
  {
   "cell_type": "code",
   "execution_count": 11,
   "id": "5a7a98a4",
   "metadata": {
    "execution": {
     "iopub.execute_input": "2023-03-01T12:02:56.065411Z",
     "iopub.status.busy": "2023-03-01T12:02:56.064625Z",
     "iopub.status.idle": "2023-03-01T12:02:56.072371Z",
     "shell.execute_reply": "2023-03-01T12:02:56.071129Z"
    },
    "papermill": {
     "duration": 0.024932,
     "end_time": "2023-03-01T12:02:56.074643",
     "exception": false,
     "start_time": "2023-03-01T12:02:56.049711",
     "status": "completed"
    },
    "tags": []
   },
   "outputs": [
    {
     "data": {
      "text/plain": [
       "array(['Alley', 'FireplaceQu', 'PoolQC', 'Fence', 'MiscFeature'],\n",
       "      dtype=object)"
      ]
     },
     "execution_count": 11,
     "metadata": {},
     "output_type": "execute_result"
    }
   ],
   "source": [
    "col1=null1.index\n",
    "col1=np.array(col1)\n",
    "col1"
   ]
  },
  {
   "cell_type": "code",
   "execution_count": 12,
   "id": "2e8e39cb",
   "metadata": {
    "execution": {
     "iopub.execute_input": "2023-03-01T12:02:56.103159Z",
     "iopub.status.busy": "2023-03-01T12:02:56.102432Z",
     "iopub.status.idle": "2023-03-01T12:02:56.135180Z",
     "shell.execute_reply": "2023-03-01T12:02:56.133847Z"
    },
    "papermill": {
     "duration": 0.049953,
     "end_time": "2023-03-01T12:02:56.137810",
     "exception": false,
     "start_time": "2023-03-01T12:02:56.087857",
     "status": "completed"
    },
    "tags": []
   },
   "outputs": [
    {
     "data": {
      "text/html": [
       "<div>\n",
       "<style scoped>\n",
       "    .dataframe tbody tr th:only-of-type {\n",
       "        vertical-align: middle;\n",
       "    }\n",
       "\n",
       "    .dataframe tbody tr th {\n",
       "        vertical-align: top;\n",
       "    }\n",
       "\n",
       "    .dataframe thead th {\n",
       "        text-align: right;\n",
       "    }\n",
       "</style>\n",
       "<table border=\"1\" class=\"dataframe\">\n",
       "  <thead>\n",
       "    <tr style=\"text-align: right;\">\n",
       "      <th></th>\n",
       "      <th>Id</th>\n",
       "      <th>MSSubClass</th>\n",
       "      <th>MSZoning</th>\n",
       "      <th>LotArea</th>\n",
       "      <th>Street</th>\n",
       "      <th>LotShape</th>\n",
       "      <th>LandContour</th>\n",
       "      <th>Utilities</th>\n",
       "      <th>LotConfig</th>\n",
       "      <th>LandSlope</th>\n",
       "      <th>...</th>\n",
       "      <th>OpenPorchSF</th>\n",
       "      <th>EnclosedPorch</th>\n",
       "      <th>3SsnPorch</th>\n",
       "      <th>ScreenPorch</th>\n",
       "      <th>PoolArea</th>\n",
       "      <th>MiscVal</th>\n",
       "      <th>MoSold</th>\n",
       "      <th>YrSold</th>\n",
       "      <th>SaleType</th>\n",
       "      <th>SaleCondition</th>\n",
       "    </tr>\n",
       "  </thead>\n",
       "  <tbody>\n",
       "    <tr>\n",
       "      <th>0</th>\n",
       "      <td>1461</td>\n",
       "      <td>20</td>\n",
       "      <td>RH</td>\n",
       "      <td>11622</td>\n",
       "      <td>Pave</td>\n",
       "      <td>Reg</td>\n",
       "      <td>Lvl</td>\n",
       "      <td>AllPub</td>\n",
       "      <td>Inside</td>\n",
       "      <td>Gtl</td>\n",
       "      <td>...</td>\n",
       "      <td>0</td>\n",
       "      <td>0</td>\n",
       "      <td>0</td>\n",
       "      <td>120</td>\n",
       "      <td>0</td>\n",
       "      <td>0</td>\n",
       "      <td>6</td>\n",
       "      <td>2010</td>\n",
       "      <td>WD</td>\n",
       "      <td>Normal</td>\n",
       "    </tr>\n",
       "    <tr>\n",
       "      <th>1</th>\n",
       "      <td>1462</td>\n",
       "      <td>20</td>\n",
       "      <td>RL</td>\n",
       "      <td>14267</td>\n",
       "      <td>Pave</td>\n",
       "      <td>IR1</td>\n",
       "      <td>Lvl</td>\n",
       "      <td>AllPub</td>\n",
       "      <td>Corner</td>\n",
       "      <td>Gtl</td>\n",
       "      <td>...</td>\n",
       "      <td>36</td>\n",
       "      <td>0</td>\n",
       "      <td>0</td>\n",
       "      <td>0</td>\n",
       "      <td>0</td>\n",
       "      <td>12500</td>\n",
       "      <td>6</td>\n",
       "      <td>2010</td>\n",
       "      <td>WD</td>\n",
       "      <td>Normal</td>\n",
       "    </tr>\n",
       "    <tr>\n",
       "      <th>2</th>\n",
       "      <td>1463</td>\n",
       "      <td>60</td>\n",
       "      <td>RL</td>\n",
       "      <td>13830</td>\n",
       "      <td>Pave</td>\n",
       "      <td>IR1</td>\n",
       "      <td>Lvl</td>\n",
       "      <td>AllPub</td>\n",
       "      <td>Inside</td>\n",
       "      <td>Gtl</td>\n",
       "      <td>...</td>\n",
       "      <td>34</td>\n",
       "      <td>0</td>\n",
       "      <td>0</td>\n",
       "      <td>0</td>\n",
       "      <td>0</td>\n",
       "      <td>0</td>\n",
       "      <td>3</td>\n",
       "      <td>2010</td>\n",
       "      <td>WD</td>\n",
       "      <td>Normal</td>\n",
       "    </tr>\n",
       "    <tr>\n",
       "      <th>3</th>\n",
       "      <td>1464</td>\n",
       "      <td>60</td>\n",
       "      <td>RL</td>\n",
       "      <td>9978</td>\n",
       "      <td>Pave</td>\n",
       "      <td>IR1</td>\n",
       "      <td>Lvl</td>\n",
       "      <td>AllPub</td>\n",
       "      <td>Inside</td>\n",
       "      <td>Gtl</td>\n",
       "      <td>...</td>\n",
       "      <td>36</td>\n",
       "      <td>0</td>\n",
       "      <td>0</td>\n",
       "      <td>0</td>\n",
       "      <td>0</td>\n",
       "      <td>0</td>\n",
       "      <td>6</td>\n",
       "      <td>2010</td>\n",
       "      <td>WD</td>\n",
       "      <td>Normal</td>\n",
       "    </tr>\n",
       "    <tr>\n",
       "      <th>4</th>\n",
       "      <td>1465</td>\n",
       "      <td>120</td>\n",
       "      <td>RL</td>\n",
       "      <td>5005</td>\n",
       "      <td>Pave</td>\n",
       "      <td>IR1</td>\n",
       "      <td>HLS</td>\n",
       "      <td>AllPub</td>\n",
       "      <td>Inside</td>\n",
       "      <td>Gtl</td>\n",
       "      <td>...</td>\n",
       "      <td>82</td>\n",
       "      <td>0</td>\n",
       "      <td>0</td>\n",
       "      <td>144</td>\n",
       "      <td>0</td>\n",
       "      <td>0</td>\n",
       "      <td>1</td>\n",
       "      <td>2010</td>\n",
       "      <td>WD</td>\n",
       "      <td>Normal</td>\n",
       "    </tr>\n",
       "    <tr>\n",
       "      <th>...</th>\n",
       "      <td>...</td>\n",
       "      <td>...</td>\n",
       "      <td>...</td>\n",
       "      <td>...</td>\n",
       "      <td>...</td>\n",
       "      <td>...</td>\n",
       "      <td>...</td>\n",
       "      <td>...</td>\n",
       "      <td>...</td>\n",
       "      <td>...</td>\n",
       "      <td>...</td>\n",
       "      <td>...</td>\n",
       "      <td>...</td>\n",
       "      <td>...</td>\n",
       "      <td>...</td>\n",
       "      <td>...</td>\n",
       "      <td>...</td>\n",
       "      <td>...</td>\n",
       "      <td>...</td>\n",
       "      <td>...</td>\n",
       "      <td>...</td>\n",
       "    </tr>\n",
       "    <tr>\n",
       "      <th>1454</th>\n",
       "      <td>2915</td>\n",
       "      <td>160</td>\n",
       "      <td>RM</td>\n",
       "      <td>1936</td>\n",
       "      <td>Pave</td>\n",
       "      <td>Reg</td>\n",
       "      <td>Lvl</td>\n",
       "      <td>AllPub</td>\n",
       "      <td>Inside</td>\n",
       "      <td>Gtl</td>\n",
       "      <td>...</td>\n",
       "      <td>0</td>\n",
       "      <td>0</td>\n",
       "      <td>0</td>\n",
       "      <td>0</td>\n",
       "      <td>0</td>\n",
       "      <td>0</td>\n",
       "      <td>6</td>\n",
       "      <td>2006</td>\n",
       "      <td>WD</td>\n",
       "      <td>Normal</td>\n",
       "    </tr>\n",
       "    <tr>\n",
       "      <th>1455</th>\n",
       "      <td>2916</td>\n",
       "      <td>160</td>\n",
       "      <td>RM</td>\n",
       "      <td>1894</td>\n",
       "      <td>Pave</td>\n",
       "      <td>Reg</td>\n",
       "      <td>Lvl</td>\n",
       "      <td>AllPub</td>\n",
       "      <td>Inside</td>\n",
       "      <td>Gtl</td>\n",
       "      <td>...</td>\n",
       "      <td>24</td>\n",
       "      <td>0</td>\n",
       "      <td>0</td>\n",
       "      <td>0</td>\n",
       "      <td>0</td>\n",
       "      <td>0</td>\n",
       "      <td>4</td>\n",
       "      <td>2006</td>\n",
       "      <td>WD</td>\n",
       "      <td>Abnorml</td>\n",
       "    </tr>\n",
       "    <tr>\n",
       "      <th>1456</th>\n",
       "      <td>2917</td>\n",
       "      <td>20</td>\n",
       "      <td>RL</td>\n",
       "      <td>20000</td>\n",
       "      <td>Pave</td>\n",
       "      <td>Reg</td>\n",
       "      <td>Lvl</td>\n",
       "      <td>AllPub</td>\n",
       "      <td>Inside</td>\n",
       "      <td>Gtl</td>\n",
       "      <td>...</td>\n",
       "      <td>0</td>\n",
       "      <td>0</td>\n",
       "      <td>0</td>\n",
       "      <td>0</td>\n",
       "      <td>0</td>\n",
       "      <td>0</td>\n",
       "      <td>9</td>\n",
       "      <td>2006</td>\n",
       "      <td>WD</td>\n",
       "      <td>Abnorml</td>\n",
       "    </tr>\n",
       "    <tr>\n",
       "      <th>1457</th>\n",
       "      <td>2918</td>\n",
       "      <td>85</td>\n",
       "      <td>RL</td>\n",
       "      <td>10441</td>\n",
       "      <td>Pave</td>\n",
       "      <td>Reg</td>\n",
       "      <td>Lvl</td>\n",
       "      <td>AllPub</td>\n",
       "      <td>Inside</td>\n",
       "      <td>Gtl</td>\n",
       "      <td>...</td>\n",
       "      <td>32</td>\n",
       "      <td>0</td>\n",
       "      <td>0</td>\n",
       "      <td>0</td>\n",
       "      <td>0</td>\n",
       "      <td>700</td>\n",
       "      <td>7</td>\n",
       "      <td>2006</td>\n",
       "      <td>WD</td>\n",
       "      <td>Normal</td>\n",
       "    </tr>\n",
       "    <tr>\n",
       "      <th>1458</th>\n",
       "      <td>2919</td>\n",
       "      <td>60</td>\n",
       "      <td>RL</td>\n",
       "      <td>9627</td>\n",
       "      <td>Pave</td>\n",
       "      <td>Reg</td>\n",
       "      <td>Lvl</td>\n",
       "      <td>AllPub</td>\n",
       "      <td>Inside</td>\n",
       "      <td>Mod</td>\n",
       "      <td>...</td>\n",
       "      <td>48</td>\n",
       "      <td>0</td>\n",
       "      <td>0</td>\n",
       "      <td>0</td>\n",
       "      <td>0</td>\n",
       "      <td>0</td>\n",
       "      <td>11</td>\n",
       "      <td>2006</td>\n",
       "      <td>WD</td>\n",
       "      <td>Normal</td>\n",
       "    </tr>\n",
       "  </tbody>\n",
       "</table>\n",
       "<p>1459 rows × 69 columns</p>\n",
       "</div>"
      ],
      "text/plain": [
       "        Id  MSSubClass MSZoning  LotArea Street LotShape LandContour  \\\n",
       "0     1461          20       RH    11622   Pave      Reg         Lvl   \n",
       "1     1462          20       RL    14267   Pave      IR1         Lvl   \n",
       "2     1463          60       RL    13830   Pave      IR1         Lvl   \n",
       "3     1464          60       RL     9978   Pave      IR1         Lvl   \n",
       "4     1465         120       RL     5005   Pave      IR1         HLS   \n",
       "...    ...         ...      ...      ...    ...      ...         ...   \n",
       "1454  2915         160       RM     1936   Pave      Reg         Lvl   \n",
       "1455  2916         160       RM     1894   Pave      Reg         Lvl   \n",
       "1456  2917          20       RL    20000   Pave      Reg         Lvl   \n",
       "1457  2918          85       RL    10441   Pave      Reg         Lvl   \n",
       "1458  2919          60       RL     9627   Pave      Reg         Lvl   \n",
       "\n",
       "     Utilities LotConfig LandSlope  ... OpenPorchSF EnclosedPorch 3SsnPorch  \\\n",
       "0       AllPub    Inside       Gtl  ...           0             0         0   \n",
       "1       AllPub    Corner       Gtl  ...          36             0         0   \n",
       "2       AllPub    Inside       Gtl  ...          34             0         0   \n",
       "3       AllPub    Inside       Gtl  ...          36             0         0   \n",
       "4       AllPub    Inside       Gtl  ...          82             0         0   \n",
       "...        ...       ...       ...  ...         ...           ...       ...   \n",
       "1454    AllPub    Inside       Gtl  ...           0             0         0   \n",
       "1455    AllPub    Inside       Gtl  ...          24             0         0   \n",
       "1456    AllPub    Inside       Gtl  ...           0             0         0   \n",
       "1457    AllPub    Inside       Gtl  ...          32             0         0   \n",
       "1458    AllPub    Inside       Mod  ...          48             0         0   \n",
       "\n",
       "     ScreenPorch PoolArea  MiscVal  MoSold  YrSold  SaleType SaleCondition  \n",
       "0            120        0        0       6    2010        WD        Normal  \n",
       "1              0        0    12500       6    2010        WD        Normal  \n",
       "2              0        0        0       3    2010        WD        Normal  \n",
       "3              0        0        0       6    2010        WD        Normal  \n",
       "4            144        0        0       1    2010        WD        Normal  \n",
       "...          ...      ...      ...     ...     ...       ...           ...  \n",
       "1454           0        0        0       6    2006        WD        Normal  \n",
       "1455           0        0        0       4    2006        WD       Abnorml  \n",
       "1456           0        0        0       9    2006        WD       Abnorml  \n",
       "1457           0        0      700       7    2006        WD        Normal  \n",
       "1458           0        0        0      11    2006        WD        Normal  \n",
       "\n",
       "[1459 rows x 69 columns]"
      ]
     },
     "execution_count": 12,
     "metadata": {},
     "output_type": "execute_result"
    }
   ],
   "source": [
    "df_test=df_test.drop(columns=col,axis=1)\n",
    "df_test"
   ]
  },
  {
   "cell_type": "markdown",
   "id": "f34b0063",
   "metadata": {
    "papermill": {
     "duration": 0.013264,
     "end_time": "2023-03-01T12:02:56.164927",
     "exception": false,
     "start_time": "2023-03-01T12:02:56.151663",
     "status": "completed"
    },
    "tags": []
   },
   "source": [
    "# Removing zeros"
   ]
  },
  {
   "cell_type": "code",
   "execution_count": 13,
   "id": "a8f043eb",
   "metadata": {
    "execution": {
     "iopub.execute_input": "2023-03-01T12:02:56.194908Z",
     "iopub.status.busy": "2023-03-01T12:02:56.194169Z",
     "iopub.status.idle": "2023-03-01T12:02:56.220566Z",
     "shell.execute_reply": "2023-03-01T12:02:56.219286Z"
    },
    "papermill": {
     "duration": 0.044766,
     "end_time": "2023-03-01T12:02:56.223232",
     "exception": false,
     "start_time": "2023-03-01T12:02:56.178466",
     "status": "completed"
    },
    "tags": []
   },
   "outputs": [
    {
     "data": {
      "text/plain": [
       "MasVnrArea        869\n",
       "BsmtFinSF1        467\n",
       "BsmtFinSF2       1293\n",
       "2ndFlrSF          829\n",
       "LowQualFinSF     1434\n",
       "BsmtFullBath      856\n",
       "BsmtHalfBath     1378\n",
       "HalfBath          913\n",
       "Fireplaces        690\n",
       "WoodDeckSF        761\n",
       "OpenPorchSF       656\n",
       "EnclosedPorch    1252\n",
       "3SsnPorch        1436\n",
       "ScreenPorch      1344\n",
       "PoolArea         1453\n",
       "MiscVal          1408\n",
       "dtype: int64"
      ]
     },
     "execution_count": 13,
     "metadata": {},
     "output_type": "execute_result"
    }
   ],
   "source": [
    "#replacing null values \n",
    "zero1=df_train.replace(0,np.nan)\n",
    "zero1=zero1.isnull().sum()\n",
    "zero1=zero1[zero1>300]\n",
    "zero1"
   ]
  },
  {
   "cell_type": "code",
   "execution_count": 14,
   "id": "d61e9780",
   "metadata": {
    "execution": {
     "iopub.execute_input": "2023-03-01T12:02:56.253549Z",
     "iopub.status.busy": "2023-03-01T12:02:56.253035Z",
     "iopub.status.idle": "2023-03-01T12:02:56.279145Z",
     "shell.execute_reply": "2023-03-01T12:02:56.278141Z"
    },
    "papermill": {
     "duration": 0.044657,
     "end_time": "2023-03-01T12:02:56.281792",
     "exception": false,
     "start_time": "2023-03-01T12:02:56.237135",
     "status": "completed"
    },
    "tags": []
   },
   "outputs": [
    {
     "data": {
      "text/plain": [
       "MasVnrArea        892\n",
       "BsmtFinSF1        463\n",
       "BsmtFinSF2       1279\n",
       "2ndFlrSF          839\n",
       "LowQualFinSF     1445\n",
       "BsmtFullBath      851\n",
       "BsmtHalfBath     1366\n",
       "HalfBath          921\n",
       "Fireplaces        730\n",
       "WoodDeckSF        762\n",
       "OpenPorchSF       642\n",
       "EnclosedPorch    1208\n",
       "3SsnPorch        1446\n",
       "ScreenPorch      1319\n",
       "PoolArea         1453\n",
       "MiscVal          1408\n",
       "dtype: int64"
      ]
     },
     "execution_count": 14,
     "metadata": {},
     "output_type": "execute_result"
    }
   ],
   "source": [
    "zero2=df_test.replace(0,np.nan)\n",
    "zero2=zero2.isnull().sum()\n",
    "zero2=zero2[zero2>300]\n",
    "zero2"
   ]
  },
  {
   "cell_type": "code",
   "execution_count": 15,
   "id": "11bbd463",
   "metadata": {
    "execution": {
     "iopub.execute_input": "2023-03-01T12:02:56.311804Z",
     "iopub.status.busy": "2023-03-01T12:02:56.311331Z",
     "iopub.status.idle": "2023-03-01T12:02:56.318771Z",
     "shell.execute_reply": "2023-03-01T12:02:56.317577Z"
    },
    "papermill": {
     "duration": 0.025062,
     "end_time": "2023-03-01T12:02:56.321061",
     "exception": false,
     "start_time": "2023-03-01T12:02:56.295999",
     "status": "completed"
    },
    "tags": []
   },
   "outputs": [
    {
     "data": {
      "text/plain": [
       "array(['MasVnrArea', 'BsmtFinSF1', 'BsmtFinSF2', '2ndFlrSF',\n",
       "       'LowQualFinSF', 'BsmtFullBath', 'BsmtHalfBath', 'HalfBath',\n",
       "       'Fireplaces', 'WoodDeckSF', 'OpenPorchSF', 'EnclosedPorch',\n",
       "       '3SsnPorch', 'ScreenPorch', 'PoolArea', 'MiscVal'], dtype=object)"
      ]
     },
     "execution_count": 15,
     "metadata": {},
     "output_type": "execute_result"
    }
   ],
   "source": [
    "a=zero1.index\n",
    "np.array(a)"
   ]
  },
  {
   "cell_type": "code",
   "execution_count": 16,
   "id": "2d76c135",
   "metadata": {
    "execution": {
     "iopub.execute_input": "2023-03-01T12:02:56.351560Z",
     "iopub.status.busy": "2023-03-01T12:02:56.351073Z",
     "iopub.status.idle": "2023-03-01T12:02:56.384708Z",
     "shell.execute_reply": "2023-03-01T12:02:56.383430Z"
    },
    "papermill": {
     "duration": 0.052324,
     "end_time": "2023-03-01T12:02:56.387405",
     "exception": false,
     "start_time": "2023-03-01T12:02:56.335081",
     "status": "completed"
    },
    "tags": []
   },
   "outputs": [
    {
     "data": {
      "text/html": [
       "<div>\n",
       "<style scoped>\n",
       "    .dataframe tbody tr th:only-of-type {\n",
       "        vertical-align: middle;\n",
       "    }\n",
       "\n",
       "    .dataframe tbody tr th {\n",
       "        vertical-align: top;\n",
       "    }\n",
       "\n",
       "    .dataframe thead th {\n",
       "        text-align: right;\n",
       "    }\n",
       "</style>\n",
       "<table border=\"1\" class=\"dataframe\">\n",
       "  <thead>\n",
       "    <tr style=\"text-align: right;\">\n",
       "      <th></th>\n",
       "      <th>Id</th>\n",
       "      <th>MSSubClass</th>\n",
       "      <th>MSZoning</th>\n",
       "      <th>LotArea</th>\n",
       "      <th>Street</th>\n",
       "      <th>LotShape</th>\n",
       "      <th>LandContour</th>\n",
       "      <th>Utilities</th>\n",
       "      <th>LotConfig</th>\n",
       "      <th>LandSlope</th>\n",
       "      <th>...</th>\n",
       "      <th>TotRmsAbvGrd</th>\n",
       "      <th>Functional</th>\n",
       "      <th>GarageCars</th>\n",
       "      <th>GarageArea</th>\n",
       "      <th>PavedDrive</th>\n",
       "      <th>MoSold</th>\n",
       "      <th>YrSold</th>\n",
       "      <th>SaleType</th>\n",
       "      <th>SaleCondition</th>\n",
       "      <th>SalePrice</th>\n",
       "    </tr>\n",
       "  </thead>\n",
       "  <tbody>\n",
       "    <tr>\n",
       "      <th>0</th>\n",
       "      <td>1</td>\n",
       "      <td>60</td>\n",
       "      <td>RL</td>\n",
       "      <td>8450</td>\n",
       "      <td>Pave</td>\n",
       "      <td>Reg</td>\n",
       "      <td>Lvl</td>\n",
       "      <td>AllPub</td>\n",
       "      <td>Inside</td>\n",
       "      <td>Gtl</td>\n",
       "      <td>...</td>\n",
       "      <td>8</td>\n",
       "      <td>Typ</td>\n",
       "      <td>2</td>\n",
       "      <td>548</td>\n",
       "      <td>Y</td>\n",
       "      <td>2</td>\n",
       "      <td>2008</td>\n",
       "      <td>WD</td>\n",
       "      <td>Normal</td>\n",
       "      <td>208500</td>\n",
       "    </tr>\n",
       "    <tr>\n",
       "      <th>1</th>\n",
       "      <td>2</td>\n",
       "      <td>20</td>\n",
       "      <td>RL</td>\n",
       "      <td>9600</td>\n",
       "      <td>Pave</td>\n",
       "      <td>Reg</td>\n",
       "      <td>Lvl</td>\n",
       "      <td>AllPub</td>\n",
       "      <td>FR2</td>\n",
       "      <td>Gtl</td>\n",
       "      <td>...</td>\n",
       "      <td>6</td>\n",
       "      <td>Typ</td>\n",
       "      <td>2</td>\n",
       "      <td>460</td>\n",
       "      <td>Y</td>\n",
       "      <td>5</td>\n",
       "      <td>2007</td>\n",
       "      <td>WD</td>\n",
       "      <td>Normal</td>\n",
       "      <td>181500</td>\n",
       "    </tr>\n",
       "    <tr>\n",
       "      <th>2</th>\n",
       "      <td>3</td>\n",
       "      <td>60</td>\n",
       "      <td>RL</td>\n",
       "      <td>11250</td>\n",
       "      <td>Pave</td>\n",
       "      <td>IR1</td>\n",
       "      <td>Lvl</td>\n",
       "      <td>AllPub</td>\n",
       "      <td>Inside</td>\n",
       "      <td>Gtl</td>\n",
       "      <td>...</td>\n",
       "      <td>6</td>\n",
       "      <td>Typ</td>\n",
       "      <td>2</td>\n",
       "      <td>608</td>\n",
       "      <td>Y</td>\n",
       "      <td>9</td>\n",
       "      <td>2008</td>\n",
       "      <td>WD</td>\n",
       "      <td>Normal</td>\n",
       "      <td>223500</td>\n",
       "    </tr>\n",
       "    <tr>\n",
       "      <th>3</th>\n",
       "      <td>4</td>\n",
       "      <td>70</td>\n",
       "      <td>RL</td>\n",
       "      <td>9550</td>\n",
       "      <td>Pave</td>\n",
       "      <td>IR1</td>\n",
       "      <td>Lvl</td>\n",
       "      <td>AllPub</td>\n",
       "      <td>Corner</td>\n",
       "      <td>Gtl</td>\n",
       "      <td>...</td>\n",
       "      <td>7</td>\n",
       "      <td>Typ</td>\n",
       "      <td>3</td>\n",
       "      <td>642</td>\n",
       "      <td>Y</td>\n",
       "      <td>2</td>\n",
       "      <td>2006</td>\n",
       "      <td>WD</td>\n",
       "      <td>Abnorml</td>\n",
       "      <td>140000</td>\n",
       "    </tr>\n",
       "    <tr>\n",
       "      <th>4</th>\n",
       "      <td>5</td>\n",
       "      <td>60</td>\n",
       "      <td>RL</td>\n",
       "      <td>14260</td>\n",
       "      <td>Pave</td>\n",
       "      <td>IR1</td>\n",
       "      <td>Lvl</td>\n",
       "      <td>AllPub</td>\n",
       "      <td>FR2</td>\n",
       "      <td>Gtl</td>\n",
       "      <td>...</td>\n",
       "      <td>9</td>\n",
       "      <td>Typ</td>\n",
       "      <td>3</td>\n",
       "      <td>836</td>\n",
       "      <td>Y</td>\n",
       "      <td>12</td>\n",
       "      <td>2008</td>\n",
       "      <td>WD</td>\n",
       "      <td>Normal</td>\n",
       "      <td>250000</td>\n",
       "    </tr>\n",
       "    <tr>\n",
       "      <th>...</th>\n",
       "      <td>...</td>\n",
       "      <td>...</td>\n",
       "      <td>...</td>\n",
       "      <td>...</td>\n",
       "      <td>...</td>\n",
       "      <td>...</td>\n",
       "      <td>...</td>\n",
       "      <td>...</td>\n",
       "      <td>...</td>\n",
       "      <td>...</td>\n",
       "      <td>...</td>\n",
       "      <td>...</td>\n",
       "      <td>...</td>\n",
       "      <td>...</td>\n",
       "      <td>...</td>\n",
       "      <td>...</td>\n",
       "      <td>...</td>\n",
       "      <td>...</td>\n",
       "      <td>...</td>\n",
       "      <td>...</td>\n",
       "      <td>...</td>\n",
       "    </tr>\n",
       "    <tr>\n",
       "      <th>1455</th>\n",
       "      <td>1456</td>\n",
       "      <td>60</td>\n",
       "      <td>RL</td>\n",
       "      <td>7917</td>\n",
       "      <td>Pave</td>\n",
       "      <td>Reg</td>\n",
       "      <td>Lvl</td>\n",
       "      <td>AllPub</td>\n",
       "      <td>Inside</td>\n",
       "      <td>Gtl</td>\n",
       "      <td>...</td>\n",
       "      <td>7</td>\n",
       "      <td>Typ</td>\n",
       "      <td>2</td>\n",
       "      <td>460</td>\n",
       "      <td>Y</td>\n",
       "      <td>8</td>\n",
       "      <td>2007</td>\n",
       "      <td>WD</td>\n",
       "      <td>Normal</td>\n",
       "      <td>175000</td>\n",
       "    </tr>\n",
       "    <tr>\n",
       "      <th>1456</th>\n",
       "      <td>1457</td>\n",
       "      <td>20</td>\n",
       "      <td>RL</td>\n",
       "      <td>13175</td>\n",
       "      <td>Pave</td>\n",
       "      <td>Reg</td>\n",
       "      <td>Lvl</td>\n",
       "      <td>AllPub</td>\n",
       "      <td>Inside</td>\n",
       "      <td>Gtl</td>\n",
       "      <td>...</td>\n",
       "      <td>7</td>\n",
       "      <td>Min1</td>\n",
       "      <td>2</td>\n",
       "      <td>500</td>\n",
       "      <td>Y</td>\n",
       "      <td>2</td>\n",
       "      <td>2010</td>\n",
       "      <td>WD</td>\n",
       "      <td>Normal</td>\n",
       "      <td>210000</td>\n",
       "    </tr>\n",
       "    <tr>\n",
       "      <th>1457</th>\n",
       "      <td>1458</td>\n",
       "      <td>70</td>\n",
       "      <td>RL</td>\n",
       "      <td>9042</td>\n",
       "      <td>Pave</td>\n",
       "      <td>Reg</td>\n",
       "      <td>Lvl</td>\n",
       "      <td>AllPub</td>\n",
       "      <td>Inside</td>\n",
       "      <td>Gtl</td>\n",
       "      <td>...</td>\n",
       "      <td>9</td>\n",
       "      <td>Typ</td>\n",
       "      <td>1</td>\n",
       "      <td>252</td>\n",
       "      <td>Y</td>\n",
       "      <td>5</td>\n",
       "      <td>2010</td>\n",
       "      <td>WD</td>\n",
       "      <td>Normal</td>\n",
       "      <td>266500</td>\n",
       "    </tr>\n",
       "    <tr>\n",
       "      <th>1458</th>\n",
       "      <td>1459</td>\n",
       "      <td>20</td>\n",
       "      <td>RL</td>\n",
       "      <td>9717</td>\n",
       "      <td>Pave</td>\n",
       "      <td>Reg</td>\n",
       "      <td>Lvl</td>\n",
       "      <td>AllPub</td>\n",
       "      <td>Inside</td>\n",
       "      <td>Gtl</td>\n",
       "      <td>...</td>\n",
       "      <td>5</td>\n",
       "      <td>Typ</td>\n",
       "      <td>1</td>\n",
       "      <td>240</td>\n",
       "      <td>Y</td>\n",
       "      <td>4</td>\n",
       "      <td>2010</td>\n",
       "      <td>WD</td>\n",
       "      <td>Normal</td>\n",
       "      <td>142125</td>\n",
       "    </tr>\n",
       "    <tr>\n",
       "      <th>1459</th>\n",
       "      <td>1460</td>\n",
       "      <td>20</td>\n",
       "      <td>RL</td>\n",
       "      <td>9937</td>\n",
       "      <td>Pave</td>\n",
       "      <td>Reg</td>\n",
       "      <td>Lvl</td>\n",
       "      <td>AllPub</td>\n",
       "      <td>Inside</td>\n",
       "      <td>Gtl</td>\n",
       "      <td>...</td>\n",
       "      <td>6</td>\n",
       "      <td>Typ</td>\n",
       "      <td>1</td>\n",
       "      <td>276</td>\n",
       "      <td>Y</td>\n",
       "      <td>6</td>\n",
       "      <td>2008</td>\n",
       "      <td>WD</td>\n",
       "      <td>Normal</td>\n",
       "      <td>147500</td>\n",
       "    </tr>\n",
       "  </tbody>\n",
       "</table>\n",
       "<p>1460 rows × 54 columns</p>\n",
       "</div>"
      ],
      "text/plain": [
       "        Id  MSSubClass MSZoning  LotArea Street LotShape LandContour  \\\n",
       "0        1          60       RL     8450   Pave      Reg         Lvl   \n",
       "1        2          20       RL     9600   Pave      Reg         Lvl   \n",
       "2        3          60       RL    11250   Pave      IR1         Lvl   \n",
       "3        4          70       RL     9550   Pave      IR1         Lvl   \n",
       "4        5          60       RL    14260   Pave      IR1         Lvl   \n",
       "...    ...         ...      ...      ...    ...      ...         ...   \n",
       "1455  1456          60       RL     7917   Pave      Reg         Lvl   \n",
       "1456  1457          20       RL    13175   Pave      Reg         Lvl   \n",
       "1457  1458          70       RL     9042   Pave      Reg         Lvl   \n",
       "1458  1459          20       RL     9717   Pave      Reg         Lvl   \n",
       "1459  1460          20       RL     9937   Pave      Reg         Lvl   \n",
       "\n",
       "     Utilities LotConfig LandSlope  ... TotRmsAbvGrd Functional GarageCars  \\\n",
       "0       AllPub    Inside       Gtl  ...            8        Typ          2   \n",
       "1       AllPub       FR2       Gtl  ...            6        Typ          2   \n",
       "2       AllPub    Inside       Gtl  ...            6        Typ          2   \n",
       "3       AllPub    Corner       Gtl  ...            7        Typ          3   \n",
       "4       AllPub       FR2       Gtl  ...            9        Typ          3   \n",
       "...        ...       ...       ...  ...          ...        ...        ...   \n",
       "1455    AllPub    Inside       Gtl  ...            7        Typ          2   \n",
       "1456    AllPub    Inside       Gtl  ...            7       Min1          2   \n",
       "1457    AllPub    Inside       Gtl  ...            9        Typ          1   \n",
       "1458    AllPub    Inside       Gtl  ...            5        Typ          1   \n",
       "1459    AllPub    Inside       Gtl  ...            6        Typ          1   \n",
       "\n",
       "     GarageArea PavedDrive  MoSold  YrSold  SaleType  SaleCondition SalePrice  \n",
       "0           548          Y       2    2008        WD         Normal    208500  \n",
       "1           460          Y       5    2007        WD         Normal    181500  \n",
       "2           608          Y       9    2008        WD         Normal    223500  \n",
       "3           642          Y       2    2006        WD        Abnorml    140000  \n",
       "4           836          Y      12    2008        WD         Normal    250000  \n",
       "...         ...        ...     ...     ...       ...            ...       ...  \n",
       "1455        460          Y       8    2007        WD         Normal    175000  \n",
       "1456        500          Y       2    2010        WD         Normal    210000  \n",
       "1457        252          Y       5    2010        WD         Normal    266500  \n",
       "1458        240          Y       4    2010        WD         Normal    142125  \n",
       "1459        276          Y       6    2008        WD         Normal    147500  \n",
       "\n",
       "[1460 rows x 54 columns]"
      ]
     },
     "execution_count": 16,
     "metadata": {},
     "output_type": "execute_result"
    }
   ],
   "source": [
    "df_train=df_train.drop(columns=a,axis=1)\n",
    "df_train"
   ]
  },
  {
   "cell_type": "code",
   "execution_count": 17,
   "id": "bee8a0ef",
   "metadata": {
    "execution": {
     "iopub.execute_input": "2023-03-01T12:02:56.419613Z",
     "iopub.status.busy": "2023-03-01T12:02:56.418956Z",
     "iopub.status.idle": "2023-03-01T12:02:56.427026Z",
     "shell.execute_reply": "2023-03-01T12:02:56.425811Z"
    },
    "papermill": {
     "duration": 0.02663,
     "end_time": "2023-03-01T12:02:56.429564",
     "exception": false,
     "start_time": "2023-03-01T12:02:56.402934",
     "status": "completed"
    },
    "tags": []
   },
   "outputs": [
    {
     "data": {
      "text/plain": [
       "array(['MasVnrArea', 'BsmtFinSF1', 'BsmtFinSF2', '2ndFlrSF',\n",
       "       'LowQualFinSF', 'BsmtFullBath', 'BsmtHalfBath', 'HalfBath',\n",
       "       'Fireplaces', 'WoodDeckSF', 'OpenPorchSF', 'EnclosedPorch',\n",
       "       '3SsnPorch', 'ScreenPorch', 'PoolArea', 'MiscVal'], dtype=object)"
      ]
     },
     "execution_count": 17,
     "metadata": {},
     "output_type": "execute_result"
    }
   ],
   "source": [
    "a1=zero2.index\n",
    "np.array(a1)"
   ]
  },
  {
   "cell_type": "code",
   "execution_count": 18,
   "id": "a31a59b0",
   "metadata": {
    "execution": {
     "iopub.execute_input": "2023-03-01T12:02:56.461812Z",
     "iopub.status.busy": "2023-03-01T12:02:56.461331Z",
     "iopub.status.idle": "2023-03-01T12:02:56.500845Z",
     "shell.execute_reply": "2023-03-01T12:02:56.499627Z"
    },
    "papermill": {
     "duration": 0.058932,
     "end_time": "2023-03-01T12:02:56.503679",
     "exception": false,
     "start_time": "2023-03-01T12:02:56.444747",
     "status": "completed"
    },
    "tags": []
   },
   "outputs": [
    {
     "data": {
      "text/html": [
       "<div>\n",
       "<style scoped>\n",
       "    .dataframe tbody tr th:only-of-type {\n",
       "        vertical-align: middle;\n",
       "    }\n",
       "\n",
       "    .dataframe tbody tr th {\n",
       "        vertical-align: top;\n",
       "    }\n",
       "\n",
       "    .dataframe thead th {\n",
       "        text-align: right;\n",
       "    }\n",
       "</style>\n",
       "<table border=\"1\" class=\"dataframe\">\n",
       "  <thead>\n",
       "    <tr style=\"text-align: right;\">\n",
       "      <th></th>\n",
       "      <th>Id</th>\n",
       "      <th>MSSubClass</th>\n",
       "      <th>MSZoning</th>\n",
       "      <th>LotArea</th>\n",
       "      <th>Street</th>\n",
       "      <th>LotShape</th>\n",
       "      <th>LandContour</th>\n",
       "      <th>Utilities</th>\n",
       "      <th>LotConfig</th>\n",
       "      <th>LandSlope</th>\n",
       "      <th>...</th>\n",
       "      <th>KitchenQual</th>\n",
       "      <th>TotRmsAbvGrd</th>\n",
       "      <th>Functional</th>\n",
       "      <th>GarageCars</th>\n",
       "      <th>GarageArea</th>\n",
       "      <th>PavedDrive</th>\n",
       "      <th>MoSold</th>\n",
       "      <th>YrSold</th>\n",
       "      <th>SaleType</th>\n",
       "      <th>SaleCondition</th>\n",
       "    </tr>\n",
       "  </thead>\n",
       "  <tbody>\n",
       "    <tr>\n",
       "      <th>0</th>\n",
       "      <td>1461</td>\n",
       "      <td>20</td>\n",
       "      <td>RH</td>\n",
       "      <td>11622</td>\n",
       "      <td>Pave</td>\n",
       "      <td>Reg</td>\n",
       "      <td>Lvl</td>\n",
       "      <td>AllPub</td>\n",
       "      <td>Inside</td>\n",
       "      <td>Gtl</td>\n",
       "      <td>...</td>\n",
       "      <td>TA</td>\n",
       "      <td>5</td>\n",
       "      <td>Typ</td>\n",
       "      <td>1.0</td>\n",
       "      <td>730.0</td>\n",
       "      <td>Y</td>\n",
       "      <td>6</td>\n",
       "      <td>2010</td>\n",
       "      <td>WD</td>\n",
       "      <td>Normal</td>\n",
       "    </tr>\n",
       "    <tr>\n",
       "      <th>1</th>\n",
       "      <td>1462</td>\n",
       "      <td>20</td>\n",
       "      <td>RL</td>\n",
       "      <td>14267</td>\n",
       "      <td>Pave</td>\n",
       "      <td>IR1</td>\n",
       "      <td>Lvl</td>\n",
       "      <td>AllPub</td>\n",
       "      <td>Corner</td>\n",
       "      <td>Gtl</td>\n",
       "      <td>...</td>\n",
       "      <td>Gd</td>\n",
       "      <td>6</td>\n",
       "      <td>Typ</td>\n",
       "      <td>1.0</td>\n",
       "      <td>312.0</td>\n",
       "      <td>Y</td>\n",
       "      <td>6</td>\n",
       "      <td>2010</td>\n",
       "      <td>WD</td>\n",
       "      <td>Normal</td>\n",
       "    </tr>\n",
       "    <tr>\n",
       "      <th>2</th>\n",
       "      <td>1463</td>\n",
       "      <td>60</td>\n",
       "      <td>RL</td>\n",
       "      <td>13830</td>\n",
       "      <td>Pave</td>\n",
       "      <td>IR1</td>\n",
       "      <td>Lvl</td>\n",
       "      <td>AllPub</td>\n",
       "      <td>Inside</td>\n",
       "      <td>Gtl</td>\n",
       "      <td>...</td>\n",
       "      <td>TA</td>\n",
       "      <td>6</td>\n",
       "      <td>Typ</td>\n",
       "      <td>2.0</td>\n",
       "      <td>482.0</td>\n",
       "      <td>Y</td>\n",
       "      <td>3</td>\n",
       "      <td>2010</td>\n",
       "      <td>WD</td>\n",
       "      <td>Normal</td>\n",
       "    </tr>\n",
       "    <tr>\n",
       "      <th>3</th>\n",
       "      <td>1464</td>\n",
       "      <td>60</td>\n",
       "      <td>RL</td>\n",
       "      <td>9978</td>\n",
       "      <td>Pave</td>\n",
       "      <td>IR1</td>\n",
       "      <td>Lvl</td>\n",
       "      <td>AllPub</td>\n",
       "      <td>Inside</td>\n",
       "      <td>Gtl</td>\n",
       "      <td>...</td>\n",
       "      <td>Gd</td>\n",
       "      <td>7</td>\n",
       "      <td>Typ</td>\n",
       "      <td>2.0</td>\n",
       "      <td>470.0</td>\n",
       "      <td>Y</td>\n",
       "      <td>6</td>\n",
       "      <td>2010</td>\n",
       "      <td>WD</td>\n",
       "      <td>Normal</td>\n",
       "    </tr>\n",
       "    <tr>\n",
       "      <th>4</th>\n",
       "      <td>1465</td>\n",
       "      <td>120</td>\n",
       "      <td>RL</td>\n",
       "      <td>5005</td>\n",
       "      <td>Pave</td>\n",
       "      <td>IR1</td>\n",
       "      <td>HLS</td>\n",
       "      <td>AllPub</td>\n",
       "      <td>Inside</td>\n",
       "      <td>Gtl</td>\n",
       "      <td>...</td>\n",
       "      <td>Gd</td>\n",
       "      <td>5</td>\n",
       "      <td>Typ</td>\n",
       "      <td>2.0</td>\n",
       "      <td>506.0</td>\n",
       "      <td>Y</td>\n",
       "      <td>1</td>\n",
       "      <td>2010</td>\n",
       "      <td>WD</td>\n",
       "      <td>Normal</td>\n",
       "    </tr>\n",
       "    <tr>\n",
       "      <th>...</th>\n",
       "      <td>...</td>\n",
       "      <td>...</td>\n",
       "      <td>...</td>\n",
       "      <td>...</td>\n",
       "      <td>...</td>\n",
       "      <td>...</td>\n",
       "      <td>...</td>\n",
       "      <td>...</td>\n",
       "      <td>...</td>\n",
       "      <td>...</td>\n",
       "      <td>...</td>\n",
       "      <td>...</td>\n",
       "      <td>...</td>\n",
       "      <td>...</td>\n",
       "      <td>...</td>\n",
       "      <td>...</td>\n",
       "      <td>...</td>\n",
       "      <td>...</td>\n",
       "      <td>...</td>\n",
       "      <td>...</td>\n",
       "      <td>...</td>\n",
       "    </tr>\n",
       "    <tr>\n",
       "      <th>1454</th>\n",
       "      <td>2915</td>\n",
       "      <td>160</td>\n",
       "      <td>RM</td>\n",
       "      <td>1936</td>\n",
       "      <td>Pave</td>\n",
       "      <td>Reg</td>\n",
       "      <td>Lvl</td>\n",
       "      <td>AllPub</td>\n",
       "      <td>Inside</td>\n",
       "      <td>Gtl</td>\n",
       "      <td>...</td>\n",
       "      <td>TA</td>\n",
       "      <td>5</td>\n",
       "      <td>Typ</td>\n",
       "      <td>0.0</td>\n",
       "      <td>0.0</td>\n",
       "      <td>Y</td>\n",
       "      <td>6</td>\n",
       "      <td>2006</td>\n",
       "      <td>WD</td>\n",
       "      <td>Normal</td>\n",
       "    </tr>\n",
       "    <tr>\n",
       "      <th>1455</th>\n",
       "      <td>2916</td>\n",
       "      <td>160</td>\n",
       "      <td>RM</td>\n",
       "      <td>1894</td>\n",
       "      <td>Pave</td>\n",
       "      <td>Reg</td>\n",
       "      <td>Lvl</td>\n",
       "      <td>AllPub</td>\n",
       "      <td>Inside</td>\n",
       "      <td>Gtl</td>\n",
       "      <td>...</td>\n",
       "      <td>TA</td>\n",
       "      <td>6</td>\n",
       "      <td>Typ</td>\n",
       "      <td>1.0</td>\n",
       "      <td>286.0</td>\n",
       "      <td>Y</td>\n",
       "      <td>4</td>\n",
       "      <td>2006</td>\n",
       "      <td>WD</td>\n",
       "      <td>Abnorml</td>\n",
       "    </tr>\n",
       "    <tr>\n",
       "      <th>1456</th>\n",
       "      <td>2917</td>\n",
       "      <td>20</td>\n",
       "      <td>RL</td>\n",
       "      <td>20000</td>\n",
       "      <td>Pave</td>\n",
       "      <td>Reg</td>\n",
       "      <td>Lvl</td>\n",
       "      <td>AllPub</td>\n",
       "      <td>Inside</td>\n",
       "      <td>Gtl</td>\n",
       "      <td>...</td>\n",
       "      <td>TA</td>\n",
       "      <td>7</td>\n",
       "      <td>Typ</td>\n",
       "      <td>2.0</td>\n",
       "      <td>576.0</td>\n",
       "      <td>Y</td>\n",
       "      <td>9</td>\n",
       "      <td>2006</td>\n",
       "      <td>WD</td>\n",
       "      <td>Abnorml</td>\n",
       "    </tr>\n",
       "    <tr>\n",
       "      <th>1457</th>\n",
       "      <td>2918</td>\n",
       "      <td>85</td>\n",
       "      <td>RL</td>\n",
       "      <td>10441</td>\n",
       "      <td>Pave</td>\n",
       "      <td>Reg</td>\n",
       "      <td>Lvl</td>\n",
       "      <td>AllPub</td>\n",
       "      <td>Inside</td>\n",
       "      <td>Gtl</td>\n",
       "      <td>...</td>\n",
       "      <td>TA</td>\n",
       "      <td>6</td>\n",
       "      <td>Typ</td>\n",
       "      <td>0.0</td>\n",
       "      <td>0.0</td>\n",
       "      <td>Y</td>\n",
       "      <td>7</td>\n",
       "      <td>2006</td>\n",
       "      <td>WD</td>\n",
       "      <td>Normal</td>\n",
       "    </tr>\n",
       "    <tr>\n",
       "      <th>1458</th>\n",
       "      <td>2919</td>\n",
       "      <td>60</td>\n",
       "      <td>RL</td>\n",
       "      <td>9627</td>\n",
       "      <td>Pave</td>\n",
       "      <td>Reg</td>\n",
       "      <td>Lvl</td>\n",
       "      <td>AllPub</td>\n",
       "      <td>Inside</td>\n",
       "      <td>Mod</td>\n",
       "      <td>...</td>\n",
       "      <td>TA</td>\n",
       "      <td>9</td>\n",
       "      <td>Typ</td>\n",
       "      <td>3.0</td>\n",
       "      <td>650.0</td>\n",
       "      <td>Y</td>\n",
       "      <td>11</td>\n",
       "      <td>2006</td>\n",
       "      <td>WD</td>\n",
       "      <td>Normal</td>\n",
       "    </tr>\n",
       "  </tbody>\n",
       "</table>\n",
       "<p>1459 rows × 53 columns</p>\n",
       "</div>"
      ],
      "text/plain": [
       "        Id  MSSubClass MSZoning  LotArea Street LotShape LandContour  \\\n",
       "0     1461          20       RH    11622   Pave      Reg         Lvl   \n",
       "1     1462          20       RL    14267   Pave      IR1         Lvl   \n",
       "2     1463          60       RL    13830   Pave      IR1         Lvl   \n",
       "3     1464          60       RL     9978   Pave      IR1         Lvl   \n",
       "4     1465         120       RL     5005   Pave      IR1         HLS   \n",
       "...    ...         ...      ...      ...    ...      ...         ...   \n",
       "1454  2915         160       RM     1936   Pave      Reg         Lvl   \n",
       "1455  2916         160       RM     1894   Pave      Reg         Lvl   \n",
       "1456  2917          20       RL    20000   Pave      Reg         Lvl   \n",
       "1457  2918          85       RL    10441   Pave      Reg         Lvl   \n",
       "1458  2919          60       RL     9627   Pave      Reg         Lvl   \n",
       "\n",
       "     Utilities LotConfig LandSlope  ... KitchenQual TotRmsAbvGrd Functional  \\\n",
       "0       AllPub    Inside       Gtl  ...          TA            5        Typ   \n",
       "1       AllPub    Corner       Gtl  ...          Gd            6        Typ   \n",
       "2       AllPub    Inside       Gtl  ...          TA            6        Typ   \n",
       "3       AllPub    Inside       Gtl  ...          Gd            7        Typ   \n",
       "4       AllPub    Inside       Gtl  ...          Gd            5        Typ   \n",
       "...        ...       ...       ...  ...         ...          ...        ...   \n",
       "1454    AllPub    Inside       Gtl  ...          TA            5        Typ   \n",
       "1455    AllPub    Inside       Gtl  ...          TA            6        Typ   \n",
       "1456    AllPub    Inside       Gtl  ...          TA            7        Typ   \n",
       "1457    AllPub    Inside       Gtl  ...          TA            6        Typ   \n",
       "1458    AllPub    Inside       Mod  ...          TA            9        Typ   \n",
       "\n",
       "     GarageCars GarageArea  PavedDrive  MoSold  YrSold  SaleType SaleCondition  \n",
       "0           1.0      730.0           Y       6    2010        WD        Normal  \n",
       "1           1.0      312.0           Y       6    2010        WD        Normal  \n",
       "2           2.0      482.0           Y       3    2010        WD        Normal  \n",
       "3           2.0      470.0           Y       6    2010        WD        Normal  \n",
       "4           2.0      506.0           Y       1    2010        WD        Normal  \n",
       "...         ...        ...         ...     ...     ...       ...           ...  \n",
       "1454        0.0        0.0           Y       6    2006        WD        Normal  \n",
       "1455        1.0      286.0           Y       4    2006        WD       Abnorml  \n",
       "1456        2.0      576.0           Y       9    2006        WD       Abnorml  \n",
       "1457        0.0        0.0           Y       7    2006        WD        Normal  \n",
       "1458        3.0      650.0           Y      11    2006        WD        Normal  \n",
       "\n",
       "[1459 rows x 53 columns]"
      ]
     },
     "execution_count": 18,
     "metadata": {},
     "output_type": "execute_result"
    }
   ],
   "source": [
    "df_test=df_test.drop(columns=a1,axis=1)\n",
    "df_test"
   ]
  },
  {
   "cell_type": "markdown",
   "id": "5b185f6e",
   "metadata": {
    "papermill": {
     "duration": 0.014711,
     "end_time": "2023-03-01T12:02:56.533737",
     "exception": false,
     "start_time": "2023-03-01T12:02:56.519026",
     "status": "completed"
    },
    "tags": []
   },
   "source": [
    "# **Feature Selection**"
   ]
  },
  {
   "cell_type": "code",
   "execution_count": 19,
   "id": "65307dcc",
   "metadata": {
    "execution": {
     "iopub.execute_input": "2023-03-01T12:02:56.565796Z",
     "iopub.status.busy": "2023-03-01T12:02:56.565334Z",
     "iopub.status.idle": "2023-03-01T12:02:58.929716Z",
     "shell.execute_reply": "2023-03-01T12:02:58.928610Z"
    },
    "papermill": {
     "duration": 2.38355,
     "end_time": "2023-03-01T12:02:58.932436",
     "exception": false,
     "start_time": "2023-03-01T12:02:56.548886",
     "status": "completed"
    },
    "tags": []
   },
   "outputs": [
    {
     "data": {
      "image/png": "[encoded data removed]",
      "text/plain": [
       "<Figure size 1800x1800 with 2 Axes>"
      ]
     },
     "metadata": {
      "needs_background": "light"
     },
     "output_type": "display_data"
    }
   ],
   "source": [
    "import seaborn as sns\n",
    "cor=df_train.corr()\n",
    "plt.figure(figsize=(25,25))\n",
    "sns.heatmap(cor,annot=True,cmap=plt.cm.CMRmap_r)\n",
    "plt.show()"
   ]
  },
  {
   "cell_type": "code",
   "execution_count": 20,
   "id": "6990f890",
   "metadata": {
    "execution": {
     "iopub.execute_input": "2023-03-01T12:02:58.973150Z",
     "iopub.status.busy": "2023-03-01T12:02:58.972031Z",
     "iopub.status.idle": "2023-03-01T12:02:58.990280Z",
     "shell.execute_reply": "2023-03-01T12:02:58.989253Z"
    },
    "papermill": {
     "duration": 0.040986,
     "end_time": "2023-03-01T12:02:58.992673",
     "exception": false,
     "start_time": "2023-03-01T12:02:58.951687",
     "status": "completed"
    },
    "tags": []
   },
   "outputs": [
    {
     "data": {
      "text/html": [
       "<div>\n",
       "<style scoped>\n",
       "    .dataframe tbody tr th:only-of-type {\n",
       "        vertical-align: middle;\n",
       "    }\n",
       "\n",
       "    .dataframe tbody tr th {\n",
       "        vertical-align: top;\n",
       "    }\n",
       "\n",
       "    .dataframe thead th {\n",
       "        text-align: right;\n",
       "    }\n",
       "</style>\n",
       "<table border=\"1\" class=\"dataframe\">\n",
       "  <thead>\n",
       "    <tr style=\"text-align: right;\">\n",
       "      <th></th>\n",
       "      <th>OverallQual</th>\n",
       "      <th>YearBuilt</th>\n",
       "      <th>YearRemodAdd</th>\n",
       "      <th>TotalBsmtSF</th>\n",
       "      <th>1stFlrSF</th>\n",
       "      <th>GrLivArea</th>\n",
       "      <th>FullBath</th>\n",
       "      <th>TotRmsAbvGrd</th>\n",
       "      <th>GarageCars</th>\n",
       "      <th>GarageArea</th>\n",
       "      <th>SalePrice</th>\n",
       "    </tr>\n",
       "  </thead>\n",
       "  <tbody>\n",
       "    <tr>\n",
       "      <th>0</th>\n",
       "      <td>7</td>\n",
       "      <td>2003</td>\n",
       "      <td>2003</td>\n",
       "      <td>856</td>\n",
       "      <td>856</td>\n",
       "      <td>1710</td>\n",
       "      <td>2</td>\n",
       "      <td>8</td>\n",
       "      <td>2</td>\n",
       "      <td>548</td>\n",
       "      <td>208500</td>\n",
       "    </tr>\n",
       "    <tr>\n",
       "      <th>1</th>\n",
       "      <td>6</td>\n",
       "      <td>1976</td>\n",
       "      <td>1976</td>\n",
       "      <td>1262</td>\n",
       "      <td>1262</td>\n",
       "      <td>1262</td>\n",
       "      <td>2</td>\n",
       "      <td>6</td>\n",
       "      <td>2</td>\n",
       "      <td>460</td>\n",
       "      <td>181500</td>\n",
       "    </tr>\n",
       "    <tr>\n",
       "      <th>2</th>\n",
       "      <td>7</td>\n",
       "      <td>2001</td>\n",
       "      <td>2002</td>\n",
       "      <td>920</td>\n",
       "      <td>920</td>\n",
       "      <td>1786</td>\n",
       "      <td>2</td>\n",
       "      <td>6</td>\n",
       "      <td>2</td>\n",
       "      <td>608</td>\n",
       "      <td>223500</td>\n",
       "    </tr>\n",
       "    <tr>\n",
       "      <th>3</th>\n",
       "      <td>7</td>\n",
       "      <td>1915</td>\n",
       "      <td>1970</td>\n",
       "      <td>756</td>\n",
       "      <td>961</td>\n",
       "      <td>1717</td>\n",
       "      <td>1</td>\n",
       "      <td>7</td>\n",
       "      <td>3</td>\n",
       "      <td>642</td>\n",
       "      <td>140000</td>\n",
       "    </tr>\n",
       "    <tr>\n",
       "      <th>4</th>\n",
       "      <td>8</td>\n",
       "      <td>2000</td>\n",
       "      <td>2000</td>\n",
       "      <td>1145</td>\n",
       "      <td>1145</td>\n",
       "      <td>2198</td>\n",
       "      <td>2</td>\n",
       "      <td>9</td>\n",
       "      <td>3</td>\n",
       "      <td>836</td>\n",
       "      <td>250000</td>\n",
       "    </tr>\n",
       "    <tr>\n",
       "      <th>...</th>\n",
       "      <td>...</td>\n",
       "      <td>...</td>\n",
       "      <td>...</td>\n",
       "      <td>...</td>\n",
       "      <td>...</td>\n",
       "      <td>...</td>\n",
       "      <td>...</td>\n",
       "      <td>...</td>\n",
       "      <td>...</td>\n",
       "      <td>...</td>\n",
       "      <td>...</td>\n",
       "    </tr>\n",
       "    <tr>\n",
       "      <th>1455</th>\n",
       "      <td>6</td>\n",
       "      <td>1999</td>\n",
       "      <td>2000</td>\n",
       "      <td>953</td>\n",
       "      <td>953</td>\n",
       "      <td>1647</td>\n",
       "      <td>2</td>\n",
       "      <td>7</td>\n",
       "      <td>2</td>\n",
       "      <td>460</td>\n",
       "      <td>175000</td>\n",
       "    </tr>\n",
       "    <tr>\n",
       "      <th>1456</th>\n",
       "      <td>6</td>\n",
       "      <td>1978</td>\n",
       "      <td>1988</td>\n",
       "      <td>1542</td>\n",
       "      <td>2073</td>\n",
       "      <td>2073</td>\n",
       "      <td>2</td>\n",
       "      <td>7</td>\n",
       "      <td>2</td>\n",
       "      <td>500</td>\n",
       "      <td>210000</td>\n",
       "    </tr>\n",
       "    <tr>\n",
       "      <th>1457</th>\n",
       "      <td>7</td>\n",
       "      <td>1941</td>\n",
       "      <td>2006</td>\n",
       "      <td>1152</td>\n",
       "      <td>1188</td>\n",
       "      <td>2340</td>\n",
       "      <td>2</td>\n",
       "      <td>9</td>\n",
       "      <td>1</td>\n",
       "      <td>252</td>\n",
       "      <td>266500</td>\n",
       "    </tr>\n",
       "    <tr>\n",
       "      <th>1458</th>\n",
       "      <td>5</td>\n",
       "      <td>1950</td>\n",
       "      <td>1996</td>\n",
       "      <td>1078</td>\n",
       "      <td>1078</td>\n",
       "      <td>1078</td>\n",
       "      <td>1</td>\n",
       "      <td>5</td>\n",
       "      <td>1</td>\n",
       "      <td>240</td>\n",
       "      <td>142125</td>\n",
       "    </tr>\n",
       "    <tr>\n",
       "      <th>1459</th>\n",
       "      <td>5</td>\n",
       "      <td>1965</td>\n",
       "      <td>1965</td>\n",
       "      <td>1256</td>\n",
       "      <td>1256</td>\n",
       "      <td>1256</td>\n",
       "      <td>1</td>\n",
       "      <td>6</td>\n",
       "      <td>1</td>\n",
       "      <td>276</td>\n",
       "      <td>147500</td>\n",
       "    </tr>\n",
       "  </tbody>\n",
       "</table>\n",
       "<p>1460 rows × 11 columns</p>\n",
       "</div>"
      ],
      "text/plain": [
       "      OverallQual  YearBuilt  YearRemodAdd  TotalBsmtSF  1stFlrSF  GrLivArea  \\\n",
       "0               7       2003          2003          856       856       1710   \n",
       "1               6       1976          1976         1262      1262       1262   \n",
       "2               7       2001          2002          920       920       1786   \n",
       "3               7       1915          1970          756       961       1717   \n",
       "4               8       2000          2000         1145      1145       2198   \n",
       "...           ...        ...           ...          ...       ...        ...   \n",
       "1455            6       1999          2000          953       953       1647   \n",
       "1456            6       1978          1988         1542      2073       2073   \n",
       "1457            7       1941          2006         1152      1188       2340   \n",
       "1458            5       1950          1996         1078      1078       1078   \n",
       "1459            5       1965          1965         1256      1256       1256   \n",
       "\n",
       "      FullBath  TotRmsAbvGrd  GarageCars  GarageArea  SalePrice  \n",
       "0            2             8           2         548     208500  \n",
       "1            2             6           2         460     181500  \n",
       "2            2             6           2         608     223500  \n",
       "3            1             7           3         642     140000  \n",
       "4            2             9           3         836     250000  \n",
       "...        ...           ...         ...         ...        ...  \n",
       "1455         2             7           2         460     175000  \n",
       "1456         2             7           2         500     210000  \n",
       "1457         2             9           1         252     266500  \n",
       "1458         1             5           1         240     142125  \n",
       "1459         1             6           1         276     147500  \n",
       "\n",
       "[1460 rows x 11 columns]"
      ]
     },
     "execution_count": 20,
     "metadata": {},
     "output_type": "execute_result"
    }
   ],
   "source": [
    "# Set a threshold for the correlation value\n",
    "threshold = 0.5\n",
    "\n",
    "# Get the list of highly correlated features with the target variable\n",
    "correlated_features = cor.index[abs(cor[\"SalePrice\"]) > threshold]\n",
    "\n",
    "# Create a new dataframe with only the highly correlated features\n",
    "df_train= df_train[correlated_features]\n",
    "df_train"
   ]
  },
  {
   "cell_type": "code",
   "execution_count": 21,
   "id": "fc185f89",
   "metadata": {
    "execution": {
     "iopub.execute_input": "2023-03-01T12:02:59.034080Z",
     "iopub.status.busy": "2023-03-01T12:02:59.033301Z",
     "iopub.status.idle": "2023-03-01T12:02:59.839224Z",
     "shell.execute_reply": "2023-03-01T12:02:59.838000Z"
    },
    "papermill": {
     "duration": 0.829994,
     "end_time": "2023-03-01T12:02:59.842169",
     "exception": false,
     "start_time": "2023-03-01T12:02:59.012175",
     "status": "completed"
    },
    "tags": []
   },
   "outputs": [
    {
     "data": {
      "image/png": "[encoded data removed]",
      "text/plain": [
       "<Figure size 576x576 with 2 Axes>"
      ]
     },
     "metadata": {
      "needs_background": "light"
     },
     "output_type": "display_data"
    }
   ],
   "source": [
    "plt.figure(figsize=(8,8))\n",
    "cor=df_train.corr()\n",
    "sns.heatmap(cor,annot=True,cmap=plt.cm.CMRmap_r)\n",
    "plt.show()"
   ]
  },
  {
   "cell_type": "code",
   "execution_count": 22,
   "id": "da961e4d",
   "metadata": {
    "execution": {
     "iopub.execute_input": "2023-03-01T12:02:59.887778Z",
     "iopub.status.busy": "2023-03-01T12:02:59.887291Z",
     "iopub.status.idle": "2023-03-01T12:02:59.894901Z",
     "shell.execute_reply": "2023-03-01T12:02:59.893667Z"
    },
    "papermill": {
     "duration": 0.033626,
     "end_time": "2023-03-01T12:02:59.897205",
     "exception": false,
     "start_time": "2023-03-01T12:02:59.863579",
     "status": "completed"
    },
    "tags": []
   },
   "outputs": [
    {
     "data": {
      "text/plain": [
       "Index(['OverallQual', 'YearBuilt', 'YearRemodAdd', 'TotalBsmtSF', '1stFlrSF',\n",
       "       'GrLivArea', 'FullBath', 'TotRmsAbvGrd', 'GarageCars', 'GarageArea',\n",
       "       'SalePrice'],\n",
       "      dtype='object')"
      ]
     },
     "execution_count": 22,
     "metadata": {},
     "output_type": "execute_result"
    }
   ],
   "source": [
    "df_train.columns"
   ]
  },
  {
   "cell_type": "code",
   "execution_count": 23,
   "id": "75263c8c",
   "metadata": {
    "execution": {
     "iopub.execute_input": "2023-03-01T12:02:59.942004Z",
     "iopub.status.busy": "2023-03-01T12:02:59.941500Z",
     "iopub.status.idle": "2023-03-01T12:02:59.946774Z",
     "shell.execute_reply": "2023-03-01T12:02:59.945487Z"
    },
    "papermill": {
     "duration": 0.030551,
     "end_time": "2023-03-01T12:02:59.949251",
     "exception": false,
     "start_time": "2023-03-01T12:02:59.918700",
     "status": "completed"
    },
    "tags": []
   },
   "outputs": [],
   "source": [
    "#choosing features\n",
    "features=['OverallQual', 'YearBuilt', 'TotalBsmtSF', 'GrLivArea', 'FullBath',\n",
    "       'GarageArea']"
   ]
  },
  {
   "cell_type": "markdown",
   "id": "a567bf64",
   "metadata": {
    "papermill": {
     "duration": 0.020448,
     "end_time": "2023-03-01T12:02:59.990595",
     "exception": false,
     "start_time": "2023-03-01T12:02:59.970147",
     "status": "completed"
    },
    "tags": []
   },
   "source": [
    "# Determinig x and y"
   ]
  },
  {
   "cell_type": "code",
   "execution_count": 24,
   "id": "0237c8b6",
   "metadata": {
    "execution": {
     "iopub.execute_input": "2023-03-01T12:03:00.034754Z",
     "iopub.status.busy": "2023-03-01T12:03:00.034249Z",
     "iopub.status.idle": "2023-03-01T12:03:00.042596Z",
     "shell.execute_reply": "2023-03-01T12:03:00.041398Z"
    },
    "papermill": {
     "duration": 0.033621,
     "end_time": "2023-03-01T12:03:00.044951",
     "exception": false,
     "start_time": "2023-03-01T12:03:00.011330",
     "status": "completed"
    },
    "tags": []
   },
   "outputs": [
    {
     "data": {
      "text/plain": [
       "(1460, 6)"
      ]
     },
     "execution_count": 24,
     "metadata": {},
     "output_type": "execute_result"
    }
   ],
   "source": [
    "x = df_train[features].values\n",
    "x.shape"
   ]
  },
  {
   "cell_type": "code",
   "execution_count": 25,
   "id": "a5fa65ca",
   "metadata": {
    "execution": {
     "iopub.execute_input": "2023-03-01T12:03:00.088717Z",
     "iopub.status.busy": "2023-03-01T12:03:00.088226Z",
     "iopub.status.idle": "2023-03-01T12:03:00.096125Z",
     "shell.execute_reply": "2023-03-01T12:03:00.094763Z"
    },
    "papermill": {
     "duration": 0.033328,
     "end_time": "2023-03-01T12:03:00.099014",
     "exception": false,
     "start_time": "2023-03-01T12:03:00.065686",
     "status": "completed"
    },
    "tags": []
   },
   "outputs": [
    {
     "data": {
      "text/plain": [
       "(1460,)"
      ]
     },
     "execution_count": 25,
     "metadata": {},
     "output_type": "execute_result"
    }
   ],
   "source": [
    "y=df_train['SalePrice']\n",
    "y.shape"
   ]
  },
  {
   "cell_type": "code",
   "execution_count": 26,
   "id": "e07be98e",
   "metadata": {
    "execution": {
     "iopub.execute_input": "2023-03-01T12:03:00.143287Z",
     "iopub.status.busy": "2023-03-01T12:03:00.142832Z",
     "iopub.status.idle": "2023-03-01T12:03:00.151582Z",
     "shell.execute_reply": "2023-03-01T12:03:00.150381Z"
    },
    "papermill": {
     "duration": 0.033895,
     "end_time": "2023-03-01T12:03:00.153803",
     "exception": false,
     "start_time": "2023-03-01T12:03:00.119908",
     "status": "completed"
    },
    "tags": []
   },
   "outputs": [
    {
     "data": {
      "text/plain": [
       "(1459, 6)"
      ]
     },
     "execution_count": 26,
     "metadata": {},
     "output_type": "execute_result"
    }
   ],
   "source": [
    "x_pred = df_test[features].values\n",
    "x_pred.shape"
   ]
  },
  {
   "cell_type": "code",
   "execution_count": 27,
   "id": "37cd63d8",
   "metadata": {
    "execution": {
     "iopub.execute_input": "2023-03-01T12:03:00.198656Z",
     "iopub.status.busy": "2023-03-01T12:03:00.198168Z",
     "iopub.status.idle": "2023-03-01T12:03:00.435530Z",
     "shell.execute_reply": "2023-03-01T12:03:00.434225Z"
    },
    "papermill": {
     "duration": 0.262578,
     "end_time": "2023-03-01T12:03:00.438241",
     "exception": false,
     "start_time": "2023-03-01T12:03:00.175663",
     "status": "completed"
    },
    "tags": []
   },
   "outputs": [
    {
     "name": "stdout",
     "output_type": "stream",
     "text": [
      "True\n",
      "False\n"
     ]
    }
   ],
   "source": [
    "import numpy as np\n",
    "from sklearn.impute import SimpleImputer\n",
    "\n",
    "# Check for missing and infinite values\n",
    "print(np.isnan(x_pred).any())\n",
    "print(np.isinf(x_pred).any())\n",
    "\n",
    "# Impute missing values with mean imputation\n",
    "imp = SimpleImputer(strategy='mean')\n",
    "x_pred = imp.fit_transform(x_pred)\n",
    "\n"
   ]
  },
  {
   "cell_type": "markdown",
   "id": "f813e5d1",
   "metadata": {
    "papermill": {
     "duration": 0.020721,
     "end_time": "2023-03-01T12:03:00.480465",
     "exception": false,
     "start_time": "2023-03-01T12:03:00.459744",
     "status": "completed"
    },
    "tags": []
   },
   "source": [
    "# **Splitting the train data**"
   ]
  },
  {
   "cell_type": "code",
   "execution_count": 28,
   "id": "312fe011",
   "metadata": {
    "execution": {
     "iopub.execute_input": "2023-03-01T12:03:00.525388Z",
     "iopub.status.busy": "2023-03-01T12:03:00.524877Z",
     "iopub.status.idle": "2023-03-01T12:03:00.532368Z",
     "shell.execute_reply": "2023-03-01T12:03:00.531141Z"
    },
    "papermill": {
     "duration": 0.032694,
     "end_time": "2023-03-01T12:03:00.534849",
     "exception": false,
     "start_time": "2023-03-01T12:03:00.502155",
     "status": "completed"
    },
    "tags": []
   },
   "outputs": [],
   "source": [
    "from sklearn.model_selection import train_test_split\n",
    "x_train,x_test,y_train,y_test=train_test_split(x,y,test_size=0.2,random_state=0)"
   ]
  },
  {
   "cell_type": "markdown",
   "id": "d02d16e1",
   "metadata": {
    "papermill": {
     "duration": 0.020747,
     "end_time": "2023-03-01T12:03:00.576757",
     "exception": false,
     "start_time": "2023-03-01T12:03:00.556010",
     "status": "completed"
    },
    "tags": []
   },
   "source": [
    "# **Training the model**"
   ]
  },
  {
   "cell_type": "markdown",
   "id": "58d69342",
   "metadata": {
    "papermill": {
     "duration": 0.020663,
     "end_time": "2023-03-01T12:03:00.619241",
     "exception": false,
     "start_time": "2023-03-01T12:03:00.598578",
     "status": "completed"
    },
    "tags": []
   },
   "source": [
    "# 1. LinearRegression"
   ]
  },
  {
   "cell_type": "code",
   "execution_count": 29,
   "id": "e28c0332",
   "metadata": {
    "execution": {
     "iopub.execute_input": "2023-03-01T12:03:00.664068Z",
     "iopub.status.busy": "2023-03-01T12:03:00.663583Z",
     "iopub.status.idle": "2023-03-01T12:03:00.688857Z",
     "shell.execute_reply": "2023-03-01T12:03:00.687732Z"
    },
    "papermill": {
     "duration": 0.050859,
     "end_time": "2023-03-01T12:03:00.691647",
     "exception": false,
     "start_time": "2023-03-01T12:03:00.640788",
     "status": "completed"
    },
    "tags": []
   },
   "outputs": [],
   "source": [
    "from sklearn.linear_model import LinearRegression\n",
    "from sklearn.metrics import accuracy_score\n",
    "reg=LinearRegression()\n",
    "reg.fit(x_train,y_train)\n",
    "y_pred = reg.predict(x_test)"
   ]
  },
  {
   "cell_type": "code",
   "execution_count": 30,
   "id": "3113254b",
   "metadata": {
    "execution": {
     "iopub.execute_input": "2023-03-01T12:03:00.735907Z",
     "iopub.status.busy": "2023-03-01T12:03:00.735413Z",
     "iopub.status.idle": "2023-03-01T12:03:00.743089Z",
     "shell.execute_reply": "2023-03-01T12:03:00.741759Z"
    },
    "papermill": {
     "duration": 0.032924,
     "end_time": "2023-03-01T12:03:00.745646",
     "exception": false,
     "start_time": "2023-03-01T12:03:00.712722",
     "status": "completed"
    },
    "tags": []
   },
   "outputs": [
    {
     "name": "stdout",
     "output_type": "stream",
     "text": [
      "Mean Squared Error:  50441.673959522865\n"
     ]
    }
   ],
   "source": [
    "from sklearn.metrics import mean_squared_error\n",
    "mse = mean_squared_error(y_test, y_pred)\n",
    "mse=np.sqrt(mse)\n",
    "print(\"Mean Squared Error: \", mse)"
   ]
  },
  {
   "cell_type": "code",
   "execution_count": 31,
   "id": "5cdc96ae",
   "metadata": {
    "execution": {
     "iopub.execute_input": "2023-03-01T12:03:00.790510Z",
     "iopub.status.busy": "2023-03-01T12:03:00.790006Z",
     "iopub.status.idle": "2023-03-01T12:03:00.795341Z",
     "shell.execute_reply": "2023-03-01T12:03:00.794383Z"
    },
    "papermill": {
     "duration": 0.030649,
     "end_time": "2023-03-01T12:03:00.797819",
     "exception": false,
     "start_time": "2023-03-01T12:03:00.767170",
     "status": "completed"
    },
    "tags": []
   },
   "outputs": [],
   "source": [
    "#predicting for test data\n",
    "pred=reg.predict(x_pred)"
   ]
  },
  {
   "cell_type": "code",
   "execution_count": 32,
   "id": "ce311d5b",
   "metadata": {
    "execution": {
     "iopub.execute_input": "2023-03-01T12:03:00.841982Z",
     "iopub.status.busy": "2023-03-01T12:03:00.841472Z",
     "iopub.status.idle": "2023-03-01T12:03:00.848767Z",
     "shell.execute_reply": "2023-03-01T12:03:00.847588Z"
    },
    "papermill": {
     "duration": 0.032499,
     "end_time": "2023-03-01T12:03:00.851154",
     "exception": false,
     "start_time": "2023-03-01T12:03:00.818655",
     "status": "completed"
    },
    "tags": []
   },
   "outputs": [
    {
     "name": "stdout",
     "output_type": "stream",
     "text": [
      "[129991.01697692 169632.01465938 169468.95085542 ... 154617.55961531\n",
      " 110796.31756764 238137.92244858]\n"
     ]
    }
   ],
   "source": [
    "print(pred)"
   ]
  },
  {
   "cell_type": "markdown",
   "id": "4b390d02",
   "metadata": {
    "papermill": {
     "duration": 0.020588,
     "end_time": "2023-03-01T12:03:00.892699",
     "exception": false,
     "start_time": "2023-03-01T12:03:00.872111",
     "status": "completed"
    },
    "tags": []
   },
   "source": [
    "# 2. GradientBoostingRegressor"
   ]
  },
  {
   "cell_type": "code",
   "execution_count": 33,
   "id": "7f7346a5",
   "metadata": {
    "execution": {
     "iopub.execute_input": "2023-03-01T12:03:00.937400Z",
     "iopub.status.busy": "2023-03-01T12:03:00.936921Z",
     "iopub.status.idle": "2023-03-01T12:03:01.178195Z",
     "shell.execute_reply": "2023-03-01T12:03:01.177033Z"
    },
    "papermill": {
     "duration": 0.266471,
     "end_time": "2023-03-01T12:03:01.181040",
     "exception": false,
     "start_time": "2023-03-01T12:03:00.914569",
     "status": "completed"
    },
    "tags": []
   },
   "outputs": [],
   "source": [
    "from sklearn.ensemble import GradientBoostingRegressor\n",
    "gb_model = GradientBoostingRegressor(loss='squared_error', learning_rate=0.1, n_estimators=100, subsample=1.0, \n",
    "                                      criterion='friedman_mse', min_samples_split=2, min_samples_leaf=1, \n",
    "                                      max_depth=3, random_state=42)\n",
    "\n",
    "# Fit the model to the training data\n",
    "gb_model.fit(x_train, y_train)\n",
    "\n",
    "# Make predictions on the test set\n",
    "y_pred = gb_model.predict(x_test)\n"
   ]
  },
  {
   "cell_type": "code",
   "execution_count": 34,
   "id": "8a08d8b3",
   "metadata": {
    "execution": {
     "iopub.execute_input": "2023-03-01T12:03:01.226607Z",
     "iopub.status.busy": "2023-03-01T12:03:01.225801Z",
     "iopub.status.idle": "2023-03-01T12:03:01.232890Z",
     "shell.execute_reply": "2023-03-01T12:03:01.231558Z"
    },
    "papermill": {
     "duration": 0.03271,
     "end_time": "2023-03-01T12:03:01.235486",
     "exception": false,
     "start_time": "2023-03-01T12:03:01.202776",
     "status": "completed"
    },
    "tags": []
   },
   "outputs": [
    {
     "name": "stdout",
     "output_type": "stream",
     "text": [
      "Mean Squared Error: 29725.087278603274\n"
     ]
    }
   ],
   "source": [
    "# Calculate the mean squared error\n",
    "mse = mean_squared_error(y_test, y_pred)\n",
    "mse=np.sqrt(mse)\n",
    "print(f\"Mean Squared Error: {mse}\")"
   ]
  },
  {
   "cell_type": "code",
   "execution_count": 35,
   "id": "0187b308",
   "metadata": {
    "execution": {
     "iopub.execute_input": "2023-03-01T12:03:01.280620Z",
     "iopub.status.busy": "2023-03-01T12:03:01.279731Z",
     "iopub.status.idle": "2023-03-01T12:03:01.287109Z",
     "shell.execute_reply": "2023-03-01T12:03:01.286002Z"
    },
    "papermill": {
     "duration": 0.033656,
     "end_time": "2023-03-01T12:03:01.290583",
     "exception": false,
     "start_time": "2023-03-01T12:03:01.256927",
     "status": "completed"
    },
    "tags": []
   },
   "outputs": [],
   "source": [
    "#predicting for test data\n",
    "pred1=gb_model.predict(x_pred)"
   ]
  },
  {
   "cell_type": "code",
   "execution_count": 36,
   "id": "93144ea4",
   "metadata": {
    "execution": {
     "iopub.execute_input": "2023-03-01T12:03:01.337829Z",
     "iopub.status.busy": "2023-03-01T12:03:01.336601Z",
     "iopub.status.idle": "2023-03-01T12:03:01.343817Z",
     "shell.execute_reply": "2023-03-01T12:03:01.342679Z"
    },
    "papermill": {
     "duration": 0.033395,
     "end_time": "2023-03-01T12:03:01.346133",
     "exception": false,
     "start_time": "2023-03-01T12:03:01.312738",
     "status": "completed"
    },
    "tags": []
   },
   "outputs": [
    {
     "name": "stdout",
     "output_type": "stream",
     "text": [
      "[133553.00113693 151946.74519436 155493.00785631 ... 148778.09473656\n",
      " 117177.06444406 231394.83403296]\n"
     ]
    }
   ],
   "source": [
    "print(pred1)"
   ]
  },
  {
   "cell_type": "markdown",
   "id": "e667f10b",
   "metadata": {
    "papermill": {
     "duration": 0.020636,
     "end_time": "2023-03-01T12:03:01.387640",
     "exception": false,
     "start_time": "2023-03-01T12:03:01.367004",
     "status": "completed"
    },
    "tags": []
   },
   "source": [
    "# 3. LASSO Regression"
   ]
  },
  {
   "cell_type": "code",
   "execution_count": 37,
   "id": "f4673e20",
   "metadata": {
    "execution": {
     "iopub.execute_input": "2023-03-01T12:03:01.432443Z",
     "iopub.status.busy": "2023-03-01T12:03:01.431203Z",
     "iopub.status.idle": "2023-03-01T12:03:01.441279Z",
     "shell.execute_reply": "2023-03-01T12:03:01.440100Z"
    },
    "papermill": {
     "duration": 0.035829,
     "end_time": "2023-03-01T12:03:01.444546",
     "exception": false,
     "start_time": "2023-03-01T12:03:01.408717",
     "status": "completed"
    },
    "tags": []
   },
   "outputs": [],
   "source": [
    "from sklearn.linear_model import Lasso\n",
    "# Create an instance of Lasso Regression implementation\n",
    "#\n",
    "lasso = Lasso(alpha=1.0)\n",
    "#\n",
    "# Fit the Lasso model\n",
    "#\n",
    "lasso.fit(x_train, y_train)\n",
    "y_pred = lasso.predict(x_test)"
   ]
  },
  {
   "cell_type": "code",
   "execution_count": 38,
   "id": "a0d0f046",
   "metadata": {
    "execution": {
     "iopub.execute_input": "2023-03-01T12:03:01.490466Z",
     "iopub.status.busy": "2023-03-01T12:03:01.489689Z",
     "iopub.status.idle": "2023-03-01T12:03:01.497199Z",
     "shell.execute_reply": "2023-03-01T12:03:01.495697Z"
    },
    "papermill": {
     "duration": 0.032638,
     "end_time": "2023-03-01T12:03:01.499773",
     "exception": false,
     "start_time": "2023-03-01T12:03:01.467135",
     "status": "completed"
    },
    "tags": []
   },
   "outputs": [
    {
     "name": "stdout",
     "output_type": "stream",
     "text": [
      "Mean Squared Error: 50441.58860742655\n"
     ]
    }
   ],
   "source": [
    "# Calculate the mean squared error\n",
    "mse = mean_squared_error(y_test, y_pred)\n",
    "mse=np.sqrt(mse)\n",
    "print(f\"Mean Squared Error: {mse}\")"
   ]
  },
  {
   "cell_type": "code",
   "execution_count": 39,
   "id": "e6f1a83a",
   "metadata": {
    "execution": {
     "iopub.execute_input": "2023-03-01T12:03:01.544084Z",
     "iopub.status.busy": "2023-03-01T12:03:01.543656Z",
     "iopub.status.idle": "2023-03-01T12:03:01.553221Z",
     "shell.execute_reply": "2023-03-01T12:03:01.551972Z"
    },
    "papermill": {
     "duration": 0.034725,
     "end_time": "2023-03-01T12:03:01.555787",
     "exception": false,
     "start_time": "2023-03-01T12:03:01.521062",
     "status": "completed"
    },
    "tags": []
   },
   "outputs": [
    {
     "data": {
      "text/plain": [
       "(0.6315654301058964, 0.7990733868200067)"
      ]
     },
     "execution_count": 39,
     "metadata": {},
     "output_type": "execute_result"
    }
   ],
   "source": [
    "lasso.score(x_test, y_test), lasso.score(x_train, y_train)"
   ]
  },
  {
   "cell_type": "code",
   "execution_count": 40,
   "id": "83f92388",
   "metadata": {
    "execution": {
     "iopub.execute_input": "2023-03-01T12:03:01.600745Z",
     "iopub.status.busy": "2023-03-01T12:03:01.600278Z",
     "iopub.status.idle": "2023-03-01T12:03:01.605986Z",
     "shell.execute_reply": "2023-03-01T12:03:01.604594Z"
    },
    "papermill": {
     "duration": 0.031571,
     "end_time": "2023-03-01T12:03:01.608653",
     "exception": false,
     "start_time": "2023-03-01T12:03:01.577082",
     "status": "completed"
    },
    "tags": []
   },
   "outputs": [],
   "source": [
    "#predicting for test data\n",
    "pred2=lasso.predict(x_pred)"
   ]
  },
  {
   "cell_type": "code",
   "execution_count": 41,
   "id": "7795e703",
   "metadata": {
    "execution": {
     "iopub.execute_input": "2023-03-01T12:03:01.654543Z",
     "iopub.status.busy": "2023-03-01T12:03:01.654023Z",
     "iopub.status.idle": "2023-03-01T12:03:01.662935Z",
     "shell.execute_reply": "2023-03-01T12:03:01.661564Z"
    },
    "papermill": {
     "duration": 0.035078,
     "end_time": "2023-03-01T12:03:01.665613",
     "exception": false,
     "start_time": "2023-03-01T12:03:01.630535",
     "status": "completed"
    },
    "tags": []
   },
   "outputs": [
    {
     "name": "stdout",
     "output_type": "stream",
     "text": [
      "[129990.88818415 169628.89488701 169472.68357111 ... 154616.5968691\n",
      " 110793.80601244 238137.84342443]\n"
     ]
    }
   ],
   "source": [
    "print(pred2)"
   ]
  },
  {
   "cell_type": "markdown",
   "id": "9f40dacb",
   "metadata": {
    "papermill": {
     "duration": 0.02196,
     "end_time": "2023-03-01T12:03:01.709714",
     "exception": false,
     "start_time": "2023-03-01T12:03:01.687754",
     "status": "completed"
    },
    "tags": []
   },
   "source": [
    "# **Submission**"
   ]
  },
  {
   "cell_type": "code",
   "execution_count": 42,
   "id": "9e3b7299",
   "metadata": {
    "execution": {
     "iopub.execute_input": "2023-03-01T12:03:01.756493Z",
     "iopub.status.busy": "2023-03-01T12:03:01.755991Z",
     "iopub.status.idle": "2023-03-01T12:03:01.780990Z",
     "shell.execute_reply": "2023-03-01T12:03:01.779376Z"
    },
    "papermill": {
     "duration": 0.051186,
     "end_time": "2023-03-01T12:03:01.783784",
     "exception": false,
     "start_time": "2023-03-01T12:03:01.732598",
     "status": "completed"
    },
    "tags": []
   },
   "outputs": [
    {
     "data": {
      "text/html": [
       "<div>\n",
       "<style scoped>\n",
       "    .dataframe tbody tr th:only-of-type {\n",
       "        vertical-align: middle;\n",
       "    }\n",
       "\n",
       "    .dataframe tbody tr th {\n",
       "        vertical-align: top;\n",
       "    }\n",
       "\n",
       "    .dataframe thead th {\n",
       "        text-align: right;\n",
       "    }\n",
       "</style>\n",
       "<table border=\"1\" class=\"dataframe\">\n",
       "  <thead>\n",
       "    <tr style=\"text-align: right;\">\n",
       "      <th></th>\n",
       "      <th>Id</th>\n",
       "      <th>SalePrice</th>\n",
       "    </tr>\n",
       "  </thead>\n",
       "  <tbody>\n",
       "    <tr>\n",
       "      <th>0</th>\n",
       "      <td>1461</td>\n",
       "      <td>133553.001137</td>\n",
       "    </tr>\n",
       "    <tr>\n",
       "      <th>1</th>\n",
       "      <td>1462</td>\n",
       "      <td>151946.745194</td>\n",
       "    </tr>\n",
       "    <tr>\n",
       "      <th>2</th>\n",
       "      <td>1463</td>\n",
       "      <td>155493.007856</td>\n",
       "    </tr>\n",
       "    <tr>\n",
       "      <th>3</th>\n",
       "      <td>1464</td>\n",
       "      <td>172484.041248</td>\n",
       "    </tr>\n",
       "    <tr>\n",
       "      <th>4</th>\n",
       "      <td>1465</td>\n",
       "      <td>217841.384635</td>\n",
       "    </tr>\n",
       "  </tbody>\n",
       "</table>\n",
       "</div>"
      ],
      "text/plain": [
       "     Id      SalePrice\n",
       "0  1461  133553.001137\n",
       "1  1462  151946.745194\n",
       "2  1463  155493.007856\n",
       "3  1464  172484.041248\n",
       "4  1465  217841.384635"
      ]
     },
     "execution_count": 42,
     "metadata": {},
     "output_type": "execute_result"
    }
   ],
   "source": [
    "sub = pd.DataFrame()    #create an empty dataframe\n",
    "sub['Id'] = test_id     #create a column with the test Id's\n",
    "sub['SalePrice'] = pred1  #create a column with the test predictions\n",
    "sub.to_csv('submission.csv',index=False) #submission file\n",
    "sub.head()"
   ]
  }
 ],
 "metadata": {
  "kernelspec": {
   "display_name": "Python 3",
   "language": "python",
   "name": "python3"
  },
  "language_info": {
   "codemirror_mode": {
    "name": "ipython",
    "version": 3
   },
   "file_extension": ".py",
   "mimetype": "text/x-python",
   "name": "python",
   "nbconvert_exporter": "python",
   "pygments_lexer": "ipython3",
   "version": "3.7.12"
  },
  "papermill": {
   "default_parameters": {},
   "duration": 18.728494,
   "end_time": "2023-03-01T12:03:02.629976",
   "environment_variables": {},
   "exception": null,
   "input_path": "__notebook__.ipynb",
   "output_path": "__notebook__.ipynb",
   "parameters": {},
   "start_time": "2023-03-01T12:02:43.901482",
   "version": "2.3.4"
  }
 },
 "nbformat": 4,
 "nbformat_minor": 5
}
